{
 "cells": [
  {
   "cell_type": "markdown",
   "metadata": {},
   "source": [
    "## Load Packages"
   ]
  },
  {
   "cell_type": "code",
   "execution_count": null,
   "metadata": {},
   "outputs": [],
   "source": [
    "%matplotlib inline\n",
    "import snappy # Awesome string Compression package\n",
    "from redis import Redis # key-value storage redis connector package\n",
    "from datasketch import MinHash # to generate MinHash for set \n",
    "\n",
    "import json\n",
    "import numpy as np\n",
    "import pandas as pd\n",
    "from tqdm import tqdm\n",
    "from tensorflow.keras.utils import get_file\n",
    "tqdm.pandas()"
   ]
  },
  {
   "cell_type": "markdown",
   "metadata": {},
   "source": [
    "## Download Data"
   ]
  },
  {
   "cell_type": "code",
   "execution_count": null,
   "metadata": {},
   "outputs": [],
   "source": [
    "from tensorflow.keras.utils import get_file\n",
    "\n",
    "ROOT_URL = \"https://craftsangjae.s3.ap-northeast-2.amazonaws.com/data/\"\n",
    "\n",
    "# 데이터 가져오기\n",
    "play_path = get_file(\"lastfm_play.csv\",\n",
    "                     ROOT_URL+\"lastfm_play.csv\")\n",
    "artist_path = get_file(\"lastfm_artist.csv\",\n",
    "                       ROOT_URL+\"lastfm_artist.csv\")\n",
    "user_path = get_file(\"lastfm_user.csv\",\n",
    "                     ROOT_URL+\"lastfm_user.csv\")\n",
    "\n",
    "play_df = pd.read_csv(play_path)\n",
    "artist_df = pd.read_csv(artist_path)\n",
    "user_df = pd.read_csv(user_path)"
   ]
  },
  {
   "cell_type": "markdown",
   "metadata": {},
   "source": [
    "## Real Time Collaborative Filtering  Using MinHash\n",
    "---"
   ]
  },
  {
   "cell_type": "markdown",
   "metadata": {},
   "source": [
    "## [ 추천 시스템 구성 단계 ]"
   ]
  },
  {
   "cell_type": "markdown",
   "metadata": {},
   "source": [
    "### 1. Generate MinHash Signatures Per Artists"
   ]
  },
  {
   "cell_type": "code",
   "execution_count": null,
   "metadata": {},
   "outputs": [],
   "source": [
    "def generate_minhash_signatures(user_set, sig_size=128):\n",
    "    \"\"\"\n",
    "    \n",
    "    \"\"\"\n",
    "    minhash = MinHash(sig_size)\n",
    "    for user_id in user_set:\n",
    "        minhash.update(str(user_id).encode('utf8'))\n",
    "    return minhash.hashvalues"
   ]
  },
  {
   "cell_type": "code",
   "execution_count": 13,
   "metadata": {},
   "outputs": [
    {
     "ename": "NameError",
     "evalue": "name 'play_df' is not defined",
     "output_type": "error",
     "traceback": [
      "\u001b[0;31m---------------------------------------------------------------------------\u001b[0m",
      "\u001b[0;31mNameError\u001b[0m                                 Traceback (most recent call last)",
      "\u001b[0;32m<ipython-input-13-33b7ee490575>\u001b[0m in \u001b[0;36m<module>\u001b[0;34m()\u001b[0m\n\u001b[1;32m      2\u001b[0m \u001b[0;34m\u001b[0m\u001b[0m\n\u001b[1;32m      3\u001b[0m signatures_per_artist = (\n\u001b[0;32m----> 4\u001b[0;31m     \u001b[0mplay_df\u001b[0m               \u001b[0;31m# 청취 데이터를\u001b[0m\u001b[0;34m\u001b[0m\u001b[0;34m\u001b[0m\u001b[0m\n\u001b[0m\u001b[1;32m      5\u001b[0m     \u001b[0;34m.\u001b[0m\u001b[0mgroupby\u001b[0m\u001b[0;34m(\u001b[0m\u001b[0;34m'artist_id'\u001b[0m\u001b[0;34m)\u001b[0m \u001b[0;31m# artist을 기준으로\u001b[0m\u001b[0;34m\u001b[0m\u001b[0;34m\u001b[0m\u001b[0m\n\u001b[1;32m      6\u001b[0m     \u001b[0;34m[\u001b[0m\u001b[0;34m'user_id'\u001b[0m\u001b[0;34m]\u001b[0m           \u001b[0;31m# user_id를 모아\u001b[0m\u001b[0;34m\u001b[0m\u001b[0;34m\u001b[0m\u001b[0m\n",
      "\u001b[0;31mNameError\u001b[0m: name 'play_df' is not defined"
     ]
    }
   ],
   "source": [
    "from functools import partial\n",
    "\n",
    "# artist 별로 minhash Signatures를 만듦\n",
    "signatures_per_artist = (\n",
    "    play_df               # 청취 데이터를\n",
    "    .groupby('artist_id') # artist을 기준으로\n",
    "    ['user_id']           # user_id를 모아\n",
    "    .progress_apply(set)  # 하나의 집합으로 만든 후,\n",
    "    .progress_apply(      # 집합을 minhash Signature Value로 변환\n",
    "        partial(\n",
    "            generate_minhash_signatures, sig_size=128) )\n",
    ")\n",
    "\n",
    "signature_df = pd.DataFrame(np.stack(signatures_per_artist.values))\n",
    "signature_df.index = signatures_per_artist.index\n",
    "columns = [f\"sig{col}\" for col in signature_df.columns]\n",
    "signature_df.columns = columns\n",
    "signature_df"
   ]
  },
  {
   "cell_type": "markdown",
   "metadata": {},
   "source": [
    "### 2. ETL signature values to Redis"
   ]
  },
  {
   "cell_type": "code",
   "execution_count": null,
   "metadata": {},
   "outputs": [],
   "source": [
    "def etl_worker(inputs, redis_config):\n",
    "    \"\"\"\n",
    "    각 signature 별로 Key-Value 형태로 Redis에 ETL하는 메소드\n",
    "    \"\"\"\n",
    "    \n",
    "    sig_name, signature_series = inputs\n",
    "    \n",
    "    db = Redis(**redis_config)   \n",
    "    print(f\"start {sig_name} processing\")\n",
    "    for sig_value, grouped in (\n",
    "        signature_series.groupby(signature_series)):\n",
    "        # Key로 만들기\n",
    "        key_string = \"{}-{}\".format(sig_name, sig_value)\n",
    "        # Value를 String으로 만들기\n",
    "        value_string = snappy.compress(\n",
    "            str(grouped.index.values.tolist()))\n",
    "        db.set(key_string, value_string)"
   ]
  },
  {
   "cell_type": "code",
   "execution_count": null,
   "metadata": {},
   "outputs": [],
   "source": [
    "from multiprocessing import Pool, cpu_count\n",
    "\n",
    "redis_config = {\n",
    "    \"host\":'localhost',\n",
    "    \"port\": 6379\n",
    "}\n",
    "\n",
    "pool = Pool(cpu_count())\n",
    "pool.map(etl_worker, minhv_df.iteritems());"
   ]
  },
  {
   "cell_type": "markdown",
   "metadata": {},
   "source": [
    "## [ 추천 시스템 운영 단계 ]"
   ]
  },
  {
   "cell_type": "markdown",
   "metadata": {},
   "source": [
    "### 1. 아이템 추천하기\n",
    "\n",
    "> 마돈나(353)번과 유사한 아티스트를 추천해 주어야 할 경우"
   ]
  },
  {
   "cell_type": "code",
   "execution_count": 52,
   "metadata": {},
   "outputs": [
    {
     "name": "stdout",
     "output_type": "stream",
     "text": [
      "     artist_id artist_name\n",
      "353        353     madonna\n"
     ]
    }
   ],
   "source": [
    "# 마돈나를 들은 사람에게 추천\n",
    "print(artist_df[artist_df.artist_name=='madonna'])"
   ]
  },
  {
   "cell_type": "code",
   "execution_count": 65,
   "metadata": {},
   "outputs": [
    {
     "name": "stdout",
     "output_type": "stream",
     "text": [
      "31.9 ms ± 3.37 ms per loop (mean ± std. dev. of 3 runs, 3 loops each)\n"
     ]
    }
   ],
   "source": [
    "%%timeit -n 3 -r 3\n",
    "target_item = minhv_df.loc[353]\n",
    "\n",
    "# set Query\n",
    "querys = [f'{k}-{v}' for k, v in target_item.items()]\n",
    "\n",
    "# 퀴리를 통해 redis에서 가져오기\n",
    "db = Redis('localhost', port=6379)   \n",
    "intersected_ids = np.concatenate(\n",
    "    [json.loads(snappy.decompress(row).decode('utf8')) for row in db.mget(querys)])\n",
    "\n",
    "# 아이템 count하기\n",
    "items, counts = np.unique(intersected_ids, return_counts=True)   \n",
    "\n",
    "artist_names = [artist_df.loc[item,\"artist_name\"] for item in items]\n",
    "result = (\n",
    "    pd.Series(counts,index=artist_names)\n",
    "    .sort_values(ascending=False)\n",
    "    .iloc[:5])"
   ]
  },
  {
   "cell_type": "code",
   "execution_count": 66,
   "metadata": {},
   "outputs": [
    {
     "data": {
      "text/plain": [
       "madonna            128\n",
       "michael jackson     28\n",
       "kylie minogue       24\n",
       "britney spears      24\n",
       "rihanna             22\n",
       "dtype: int64"
      ]
     },
     "execution_count": 66,
     "metadata": {},
     "output_type": "execute_result"
    }
   ],
   "source": [
    "result"
   ]
  },
  {
   "cell_type": "markdown",
   "metadata": {},
   "source": [
    "### 2. 데이터 갱신하기 \n",
    "\n",
    "> 유저(241)번이 마돈나(353)d"
   ]
  },
  {
   "cell_type": "code",
   "execution_count": null,
   "metadata": {},
   "outputs": [],
   "source": []
  }
 ],
 "metadata": {
  "kernelspec": {
   "display_name": "Python 3",
   "language": "python",
   "name": "python3"
  },
  "language_info": {
   "codemirror_mode": {
    "name": "ipython",
    "version": 3
   },
   "file_extension": ".py",
   "mimetype": "text/x-python",
   "name": "python",
   "nbconvert_exporter": "python",
   "pygments_lexer": "ipython3",
   "version": "3.6.5"
  },
  "toc": {
   "base_numbering": 1,
   "nav_menu": {},
   "number_sections": false,
   "sideBar": true,
   "skip_h1_title": false,
   "title_cell": "Table of Contents",
   "title_sidebar": "Contents",
   "toc_cell": false,
   "toc_position": {},
   "toc_section_display": true,
   "toc_window_display": false
  },
  "varInspector": {
   "cols": {
    "lenName": 16,
    "lenType": 16,
    "lenVar": 40
   },
   "kernels_config": {
    "python": {
     "delete_cmd_postfix": "",
     "delete_cmd_prefix": "del ",
     "library": "var_list.py",
     "varRefreshCmd": "print(var_dic_list())"
    },
    "r": {
     "delete_cmd_postfix": ") ",
     "delete_cmd_prefix": "rm(",
     "library": "var_list.r",
     "varRefreshCmd": "cat(var_dic_list()) "
    }
   },
   "types_to_exclude": [
    "module",
    "function",
    "builtin_function_or_method",
    "instance",
    "_Feature"
   ],
   "window_display": false
  }
 },
 "nbformat": 4,
 "nbformat_minor": 2
}
