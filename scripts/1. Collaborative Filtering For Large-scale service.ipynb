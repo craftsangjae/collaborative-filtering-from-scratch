{
 "cells": [
  {
   "cell_type": "markdown",
   "metadata": {},
   "source": [
    "## Objective\n",
    "\n",
    "\n",
    "**코끼리 냉장고에 집어넣기 : 실시간 추천엔진을 노트북에서 돌게 만들어보자** 라는 주제로 발표된 추천 엔진 관련 발표는 분산 환경인 하둡이나 스파크를 쓰지 않고도, 노트북 수준으로도 충분히  대용량의 추천 엔진을 디자인할 수 있음을 보여주는 자료입니다. Jaccard Similarity을 활용한 Collaborative Filtering을 구현해보도록 하겠습니다.\n",
    "\n",
    "\n",
    "***caution***\n",
    "> [Deview 2015 하용호님 발표](https://www.slideshare.net/deview/261-52784785)의 발표 내용을 코드로 구현한 Script입니다. \n"
   ]
  },
  {
   "cell_type": "markdown",
   "metadata": {},
   "source": [
    "### 필요 모듈 가져오기\n",
    "\n",
    "conda 환경인 경우, 추가적으로 아래 모듈들을 설치해주셔야 합니다.\n",
    "\n",
    "````shell\n",
    "pip install datasketch # Minhash Package\n",
    "pip install redis # Redis DB Interface package \n",
    "pip install python-snappy # String Compression Package\n",
    "````\n"
   ]
  },
  {
   "cell_type": "code",
   "execution_count": 1,
   "metadata": {},
   "outputs": [],
   "source": [
    "%matplotlib inline\n",
    "\n",
    "import os\n",
    "import numpy as np\n",
    "import pandas as pd\n",
    "from tqdm import tqdm\n",
    "from tensorflow.keras.utils import get_file\n",
    "tqdm.pandas()"
   ]
  },
  {
   "cell_type": "markdown",
   "metadata": {},
   "source": [
    "### 데이터 가져오기 "
   ]
  },
  {
   "cell_type": "code",
   "execution_count": 2,
   "metadata": {},
   "outputs": [],
   "source": [
    "ROOT_URL = \"https://craftsangjae.s3.ap-northeast-2.amazonaws.com/data/\"\n",
    "\n",
    "# 데이터 가져오기\n",
    "play_path = get_file(\"lastfm_play.csv\",\n",
    "                     ROOT_URL+\"lastfm_play.csv\")\n",
    "artist_path = get_file(\"lastfm_artist.csv\",\n",
    "                       ROOT_URL+\"lastfm_artist.csv\")\n",
    "user_path = get_file(\"lastfm_user.csv\",\n",
    "                     ROOT_URL+\"lastfm_user.csv\")\n",
    "\n",
    "play_df = pd.read_csv(play_path)\n",
    "artist_df = pd.read_csv(artist_path)\n",
    "user_df = pd.read_csv(user_path)"
   ]
  },
  {
   "cell_type": "markdown",
   "metadata": {},
   "source": [
    "## 사전 설명"
   ]
  },
  {
   "cell_type": "markdown",
   "metadata": {},
   "source": [
    "### 1. Jaccard Similarity\n",
    "\n",
    "Jaacard Similarity는 **두 집합 간 유사도**를 구하는 수식으로, 주로 구매 유무, 페이지 뷰 유무 등의 행동 정보를 통해 유사도를 구할 때 이용합니다.\n",
    "\n",
    "\n",
    "$$\n",
    "J(A, B) = \\frac{|A \\cap B|}{|A \\cup B|}\n",
    "$$\n",
    "\n"
   ]
  },
  {
   "cell_type": "code",
   "execution_count": 3,
   "metadata": {},
   "outputs": [],
   "source": [
    "def jaccard_similarity(A,B):\n",
    "    \"\"\"\n",
    "    두 집합 A,B에 대한 유사도\n",
    "    \"\"\"\n",
    "    return len(A & B) / len(A | B)"
   ]
  },
  {
   "cell_type": "markdown",
   "metadata": {},
   "source": [
    "예시 ) 세 가지 아이템(A,B,C) 이 존재하고 7명의 유저가(1,2,3,4,5,6,7)이 존재할 때, 각 아이템 별 구매한 유저들은 아래처럼 존재하고 있는 상황.\n",
    "\n",
    "$\n",
    "A = \\{ 1, 2, 4, 7\\} \\\\\n",
    "B = \\{ 2, 3, 5, 6\\} \\\\\n",
    "C = \\{ 3, 4, 5\\}\n",
    "$"
   ]
  },
  {
   "cell_type": "code",
   "execution_count": 4,
   "metadata": {},
   "outputs": [],
   "source": [
    "A = {1,2,4,7}\n",
    "B = {2,3,5,7}\n",
    "C = {3,4,5}"
   ]
  },
  {
   "cell_type": "code",
   "execution_count": 5,
   "metadata": {},
   "outputs": [
    {
     "name": "stdout",
     "output_type": "stream",
     "text": [
      "J(A,B)의 유사도 : 33.333%\n",
      "J(A,C)의 유사도 : 16.667%\n",
      "J(B,C)의 유사도 : 40.000%\n"
     ]
    }
   ],
   "source": [
    "sim = jaccard_similarity(A,B)\n",
    "print(f\"J(A,B)의 유사도 : {sim:.3%}\")\n",
    "\n",
    "sim = jaccard_similarity(A,C)\n",
    "print(f\"J(A,C)의 유사도 : {sim:.3%}\")\n",
    "\n",
    "sim = jaccard_similarity(B,C)\n",
    "print(f\"J(B,C)의 유사도 : {sim:.3%}\")"
   ]
  },
  {
   "cell_type": "markdown",
   "metadata": {},
   "source": [
    "### 2. MinHash\n",
    "\n",
    "<img src=\"https://www.researchgate.net/publication/304265533/figure/fig4/AS:391339092004880@1470313918577/Overview-of-the-MinHash-bottom-sketch-strategy-for-estimating-the-Jaccard-index-First.png\" width=\"300\" > "
   ]
  },
  {
   "cell_type": "markdown",
   "metadata": {},
   "source": [
    "Minhash는 기본적으로 집합을 Hash하는 알고리즘입니다. Hash는 임의의 길이의 데이터(Key Values)를 고정된 길이의 데이터(Hash Values)로 맵핑합니다. MinHash는 하나의 집합에 대해 고정된 갯수의 Hash Values을 생성합니다.\n",
    "\n",
    "이 때 일반적인 Hash와 다르게 하나의 독특한 성질(local sensitive hashing)이 있는데, 두 집합이 유사할수록 해당 Hash Values가 비슷하게 생성됩니다."
   ]
  },
  {
   "cell_type": "markdown",
   "metadata": {},
   "source": [
    "---- \n",
    "\n",
    "*** CF) MinHASH 살펴보기 ***"
   ]
  },
  {
   "cell_type": "code",
   "execution_count": 6,
   "metadata": {},
   "outputs": [
    {
     "data": {
      "text/plain": [
       "array([ 432770662, 2866125906,  383765683,  257361572], dtype=uint64)"
      ]
     },
     "execution_count": 6,
     "metadata": {},
     "output_type": "execute_result"
    }
   ],
   "source": [
    "from datasketch import MinHash\n",
    "\n",
    "# Hash하고자 하는 집합\n",
    "set_A = {\"A\",\"B\",\"C\"}\n",
    "\n",
    "# 생성하는 Hash의 갯수\n",
    "minhash = MinHash(num_perm=4)\n",
    "\n",
    "for value in set_A:\n",
    "    # 원소 별로 하나씩 minhash에 적용\n",
    "    minhash.update(str(value).encode('utf8'))\n",
    "    \n",
    "minhash.hashvalues"
   ]
  },
  {
   "cell_type": "markdown",
   "metadata": {},
   "source": [
    "위의 과정을 함수로 나타내면 아래와 같습니다."
   ]
  },
  {
   "cell_type": "code",
   "execution_count": 7,
   "metadata": {},
   "outputs": [],
   "source": [
    "def get_hash(target_set, sig_size=128):\n",
    "    minhash = MinHash(sig_size)\n",
    "    for value in target_set:\n",
    "        minhash.update(str(value).encode('utf8'))\n",
    "    return minhash.hashvalues"
   ]
  },
  {
   "cell_type": "markdown",
   "metadata": {},
   "source": [
    "MinHash Function은 서로 다른 Hash Function들(위에서는 4개)으로 구성되어 있습니다. MinHash의 알고리즘을 보기 위해 간단한 예제를 만들어보도록 하겠습니다."
   ]
  },
  {
   "cell_type": "code",
   "execution_count": 8,
   "metadata": {},
   "outputs": [
    {
     "data": {
      "text/plain": [
       "array([2155541700, 3497910862, 1404536498,  257361572], dtype=uint64)"
      ]
     },
     "execution_count": 8,
     "metadata": {},
     "output_type": "execute_result"
    }
   ],
   "source": [
    "hash_a = get_hash({'A'}, 4)\n",
    "hash_a"
   ]
  },
  {
   "cell_type": "code",
   "execution_count": 9,
   "metadata": {},
   "outputs": [
    {
     "data": {
      "text/plain": [
       "array([1660848309, 2866125906,  383765683,  690308850], dtype=uint64)"
      ]
     },
     "execution_count": 9,
     "metadata": {},
     "output_type": "execute_result"
    }
   ],
   "source": [
    "hash_b = get_hash({'B'}, 4)\n",
    "hash_b"
   ]
  },
  {
   "cell_type": "code",
   "execution_count": 10,
   "metadata": {},
   "outputs": [
    {
     "data": {
      "text/plain": [
       "array([ 432770662, 3839306110,  701789493, 2250697747], dtype=uint64)"
      ]
     },
     "execution_count": 10,
     "metadata": {},
     "output_type": "execute_result"
    }
   ],
   "source": [
    "hash_c = get_hash({'C'}, 4)\n",
    "hash_c"
   ]
  },
  {
   "cell_type": "markdown",
   "metadata": {},
   "source": [
    "MinHash는 각 원소 별로 Signature(여기서는 4개)을 구한 후, 각 Signature 중 가장 작은 값을 저장하는 방식입니다. 가장 작은 값을 저장한다 해서 MinHash라고 불립니다."
   ]
  },
  {
   "cell_type": "code",
   "execution_count": 11,
   "metadata": {},
   "outputs": [
    {
     "data": {
      "text/plain": [
       "array([ 432770662, 2866125906,  383765683,  257361572], dtype=uint64)"
      ]
     },
     "execution_count": 11,
     "metadata": {},
     "output_type": "execute_result"
    }
   ],
   "source": [
    "hash_abc = get_hash({\"A\",\"B\", \"C\"},4)\n",
    "hash_abc"
   ]
  },
  {
   "cell_type": "code",
   "execution_count": 12,
   "metadata": {},
   "outputs": [
    {
     "data": {
      "text/plain": [
       "array([2155541700, 3497910862, 1404536498,  690308850], dtype=uint64)"
      ]
     },
     "execution_count": 12,
     "metadata": {},
     "output_type": "execute_result"
    }
   ],
   "source": [
    "# 각 시그니처 별 최소 값(Min)이 해당 집합 Signature\n",
    "np.maximum(hash_a, hash_b, hash_c)"
   ]
  },
  {
   "cell_type": "markdown",
   "metadata": {},
   "source": [
    "#### 특성 1 : 원소가 중복되면, 동일한 결과 반환한다. \n",
    "\n",
    "집합의 특성과 동일하게 이미 Minhash에 포함되었다면 MinHash의 값은 동일하게 나옵니다."
   ]
  },
  {
   "cell_type": "code",
   "execution_count": 13,
   "metadata": {},
   "outputs": [
    {
     "data": {
      "text/plain": [
       "array([ 432770662, 2866125906,  383765683,  257361572], dtype=uint64)"
      ]
     },
     "execution_count": 13,
     "metadata": {},
     "output_type": "execute_result"
    }
   ],
   "source": [
    "minhash.update(\"A\".encode('utf8'))\n",
    "\n",
    "minhash.hashvalues"
   ]
  },
  {
   "cell_type": "markdown",
   "metadata": {},
   "source": [
    "#### 특성 2: 순서에 영향을 받지 않는다.\n",
    "\n",
    "그리고 집합과 동일하게, 원소를 update하는 순서가 달라지더라도 동일한 결과를 반환합니다."
   ]
  },
  {
   "cell_type": "code",
   "execution_count": 14,
   "metadata": {},
   "outputs": [
    {
     "data": {
      "text/plain": [
       "array([ 187542028,  206934951,  383765683,  257361572,   14019373,\n",
       "         98127798,  510146389,  158207789, 2211499638,  236986188,\n",
       "       1430055357, 1069935458,  622631458,  859502047,  304814259,\n",
       "       2930336844,   82639309, 1462000340, 1259992472, 1462270518,\n",
       "         35851626,   62567127,  669040041,  734884339,  640828744,\n",
       "       1638357194,  104131353,  338442154,  826472273,  251592307,\n",
       "       2872577173, 1624068580, 1915339881, 1075083221,  145452920,\n",
       "        141861766,  565557948,  109692850, 1037588332,  232800860,\n",
       "         71174338,  904892082,  126924591,    6559914, 1344550122,\n",
       "       1751405721,  136141014,  469736690,  718739130, 1591066330,\n",
       "       2073693511,  156225272,  172995981, 1829169708,   48017838,\n",
       "       1191568394,   59197654,   49810303,   94627355,  345970473,\n",
       "       1306477605,  502945878,   23067506,   30293773, 1446449111,\n",
       "       1446167980,  666285169,  522965222,   99415839,   14356784,\n",
       "         84889254,  952242489, 1614147919,  515649169, 1677435432,\n",
       "        613120862,  373606114, 1400926693, 1125431113, 2297780771,\n",
       "       1482281547, 1039032274,   32468935,  581433125,  380442717,\n",
       "       1272518402,  324662750,  956069283,   61260588,  986927359,\n",
       "        603221941,  597973074, 1565607195,  100699045, 2187015262,\n",
       "       1216987113,  142849271,  543603293,  151258099,  718191230,\n",
       "       1204022259, 1368651995,  880626787,  599488046,  474580341,\n",
       "         16083611,  678713681, 1002518399,  281597529,  167100343,\n",
       "       1539422489,  513046907, 1705800288,  247841527, 1108251572,\n",
       "        816199266,  846353142,  774969815, 1046168263, 1160230272,\n",
       "       1091883911,   82166880,  568498805, 2125605783,  302094459,\n",
       "       1217847775,  723776595, 1962314777], dtype=uint64)"
      ]
     },
     "execution_count": 14,
     "metadata": {},
     "output_type": "execute_result"
    }
   ],
   "source": [
    "minhash = MinHash()\n",
    "\n",
    "for value in [\"A\",\"B\",\"C\",\"D\"]:\n",
    "    minhash.update(str(value).encode('utf8'))\n",
    "    \n",
    "minhash.hashvalues"
   ]
  },
  {
   "cell_type": "code",
   "execution_count": 15,
   "metadata": {},
   "outputs": [
    {
     "data": {
      "text/plain": [
       "array([ 187542028,  206934951,  383765683,  257361572,   14019373,\n",
       "         98127798,  510146389,  158207789, 2211499638,  236986188,\n",
       "       1430055357, 1069935458,  622631458,  859502047,  304814259,\n",
       "       2930336844,   82639309, 1462000340, 1259992472, 1462270518,\n",
       "         35851626,   62567127,  669040041,  734884339,  640828744,\n",
       "       1638357194,  104131353,  338442154,  826472273,  251592307,\n",
       "       2872577173, 1624068580, 1915339881, 1075083221,  145452920,\n",
       "        141861766,  565557948,  109692850, 1037588332,  232800860,\n",
       "         71174338,  904892082,  126924591,    6559914, 1344550122,\n",
       "       1751405721,  136141014,  469736690,  718739130, 1591066330,\n",
       "       2073693511,  156225272,  172995981, 1829169708,   48017838,\n",
       "       1191568394,   59197654,   49810303,   94627355,  345970473,\n",
       "       1306477605,  502945878,   23067506,   30293773, 1446449111,\n",
       "       1446167980,  666285169,  522965222,   99415839,   14356784,\n",
       "         84889254,  952242489, 1614147919,  515649169, 1677435432,\n",
       "        613120862,  373606114, 1400926693, 1125431113, 2297780771,\n",
       "       1482281547, 1039032274,   32468935,  581433125,  380442717,\n",
       "       1272518402,  324662750,  956069283,   61260588,  986927359,\n",
       "        603221941,  597973074, 1565607195,  100699045, 2187015262,\n",
       "       1216987113,  142849271,  543603293,  151258099,  718191230,\n",
       "       1204022259, 1368651995,  880626787,  599488046,  474580341,\n",
       "         16083611,  678713681, 1002518399,  281597529,  167100343,\n",
       "       1539422489,  513046907, 1705800288,  247841527, 1108251572,\n",
       "        816199266,  846353142,  774969815, 1046168263, 1160230272,\n",
       "       1091883911,   82166880,  568498805, 2125605783,  302094459,\n",
       "       1217847775,  723776595, 1962314777], dtype=uint64)"
      ]
     },
     "execution_count": 15,
     "metadata": {},
     "output_type": "execute_result"
    }
   ],
   "source": [
    "minhash = MinHash()\n",
    "\n",
    "for value in [\"D\",\"C\",\"B\",\"A\"]:\n",
    "    minhash.update(str(value).encode('utf8'))\n",
    "    \n",
    "minhash.hashvalues"
   ]
  },
  {
   "cell_type": "markdown",
   "metadata": {},
   "source": [
    "#### 특성 3 : 집합이 비슷하면, Hash 값도 비슷하게 나온다.(핵심 특징)\n",
    "\n",
    "Minhash의 가장 중요한 특성 중 하나로, 집합 간의 IOU 값과 Hash 값의 IOU가 비슷하게 나옵니다."
   ]
  },
  {
   "cell_type": "code",
   "execution_count": 16,
   "metadata": {},
   "outputs": [],
   "source": [
    "set_A = {\"A\",\"B\",\"C\",\"D\",\"E\",\"F\",\"G\",\"H\"}\n",
    "set_B = {\"D\",\"E\",\"F\",\"G\",\"H\",\"I\",\"J\",\"K\"}"
   ]
  },
  {
   "cell_type": "markdown",
   "metadata": {},
   "source": [
    "#### 두 집합의 IOU 값 구하기 "
   ]
  },
  {
   "cell_type": "code",
   "execution_count": 17,
   "metadata": {},
   "outputs": [
    {
     "data": {
      "text/plain": [
       "0.45454545454545453"
      ]
     },
     "execution_count": 17,
     "metadata": {},
     "output_type": "execute_result"
    }
   ],
   "source": [
    "intersection = len(set_A & set_B)\n",
    "union = len(set_A | set_B)\n",
    "iou = intersection / union \n",
    "iou"
   ]
  },
  {
   "cell_type": "markdown",
   "metadata": {},
   "source": [
    "#### 두 집합의 MinHash 구하기"
   ]
  },
  {
   "cell_type": "code",
   "execution_count": 18,
   "metadata": {},
   "outputs": [],
   "source": [
    "minhash_A = get_hash(set_A)\n",
    "minhash_B = get_hash(set_B)"
   ]
  },
  {
   "cell_type": "code",
   "execution_count": 19,
   "metadata": {},
   "outputs": [
    {
     "data": {
      "text/plain": [
       "0.5"
      ]
     },
     "execution_count": 19,
     "metadata": {},
     "output_type": "execute_result"
    }
   ],
   "source": [
    "minhash_iou = np.mean(minhash_A == minhash_B)\n",
    "minhash_iou"
   ]
  },
  {
   "cell_type": "markdown",
   "metadata": {},
   "source": [
    "MinHash의 signature size가 커질수록 집합 간의 IOU 값과 Hash 값의 IOU가 더 비슷해 집니다."
   ]
  },
  {
   "cell_type": "code",
   "execution_count": 20,
   "metadata": {},
   "outputs": [
    {
     "data": {
      "text/plain": [
       "0.44921875"
      ]
     },
     "execution_count": 20,
     "metadata": {},
     "output_type": "execute_result"
    }
   ],
   "source": [
    "sig_size = 256\n",
    "\n",
    "minhash_A = get_hash(set_A, sig_size)\n",
    "minhash_B = get_hash(set_B, sig_size)\n",
    "\n",
    "np.mean(minhash_A == minhash_B)"
   ]
  },
  {
   "cell_type": "markdown",
   "metadata": {},
   "source": [
    "---\n"
   ]
  },
  {
   "cell_type": "markdown",
   "metadata": {},
   "source": [
    "## 대규모 Memory Based Collaborative Filtering의 어려운 점\n",
    "\n",
    "현업에서 요구되는 응답 시간은 보통 300ms 이내를 목표로 합니다. 이것보다 늦을 경우, 웹페이지가 느리다고 느끼기 때문에 고객에게 나쁜 서비스 경험을 제공할 수 있습니다. 그래서 추천 시스템을 디자인할 때에는 \"얼마나 단시간 내에\", \"얼마나 많은\" 요청을 처리할 수 있는가가 핵심 이슈가 됩니다.\n",
    "\n",
    "#### 1. 연산량이 지나치게 많음\n",
    "\n",
    "일반적인 협업 필터링은 전체 아이템 간의 유사도를 동시에 계산합니다. $O(N^2)$의 관계로 아이템 수가 10배가 늘어나면, 유사도 연산은 100배가 늘어나게 됩니다. lastFM의 경우 아이템에 해당하는 아티스트의 수가 160,110명에 불과했지만, 유통업체 같은 경우 아이템 수가(SKU) 일반적으로 100만개가 훨씬 넘습니다.\n",
    "\n",
    "100만개만 되더라도 각 아이템 간 유사도를 구하게 되면, 일반적인 컴퓨터의 램으로는 계산이 어려운 수준이고 이 규모가 되면 그 때부터 Hadoop과 같은 분산처리에서 다루어야 합니다. \n",
    "\n",
    "#### 2. 실시간으로 반영이 어려움\n",
    "\n",
    "그리고 위와 같은 수준의 연산량은 매번 계산하기가 어렵습니다. 그렇기 때문에 보통 주기적으로 하루 단위 혹은 1시간 단위 등 연산을 진행하고, Item Similarity Matrix을 업데이트 하는 방식으로 진행합니다. 뉴스 피드 추천과 같은 컨텐츠 추천에서는 실시간성이 매우 핵심인데, 실시간으로 추천이 갱신되지 못하는 기존의 방식은 추천 시스템으로 적용하기 어렵습니다."
   ]
  },
  {
   "cell_type": "markdown",
   "metadata": {},
   "source": [
    "### 해결방법 : MinHash를 이용하자!\n",
    "\n",
    "연산이 오래 걸리는 것은 바로 아이템끼리의 유사도를 구하기 위해 집합 연산을 수행해야 하기 때문입니다. 그러지 말고, MinHash를 이용하면 비싼 집합 연산 대신 몇개의 숫자가 일치하는지 계산하는 것으로 대신할 수 있습니다. \n",
    "\n",
    "거기에 Database의 Secondary Index를 이용하면, 비교할 대상을 확 줄일 수 있으므로 굉장히 효율적으로 계산해낼 수 있습니다."
   ]
  },
  {
   "cell_type": "markdown",
   "metadata": {},
   "source": [
    "## MinHash와 In-Memory Cache DB을 활용한 추천 엔진 구현하기\n"
   ]
  },
  {
   "cell_type": "markdown",
   "metadata": {},
   "source": [
    "### Item 별 Click Stream 구성하기\n",
    "\n",
    "Click Stream은 이전 시간에 배운 장바구니랑 동일하다고 생각하면 됩니다."
   ]
  },
  {
   "cell_type": "code",
   "execution_count": 21,
   "metadata": {},
   "outputs": [
    {
     "name": "stderr",
     "output_type": "stream",
     "text": [
      "100%|██████████| 160110/160110 [00:24<00:00, 6494.16it/s] \n"
     ]
    }
   ],
   "source": [
    "play_stream = (\n",
    "    play_df               # 청취 데이터를\n",
    "    .groupby('artist_id') # artist을 기준으로\n",
    "    ['user_id']           # user_id를 모아\n",
    "    .progress_apply(set)  # 하나의 집합으로 만들어 주세요\n",
    ")"
   ]
  },
  {
   "cell_type": "markdown",
   "metadata": {},
   "source": [
    "### MinHash Hashvalues로 바꾸기\n",
    "\n",
    "각 play의 MinHash값을 구해보도록 하겠습니다."
   ]
  },
  {
   "cell_type": "code",
   "execution_count": 22,
   "metadata": {},
   "outputs": [
    {
     "name": "stderr",
     "output_type": "stream",
     "text": [
      "100%|██████████| 160110/160110 [05:17<00:00, 504.80it/s] \n"
     ]
    },
    {
     "data": {
      "text/plain": [
       "artist_id\n",
       "0         [15272515, 7929136, 54786193, 220850801, 14846...\n",
       "1         [219544, 472353, 153487, 136833, 212995, 34638...\n",
       "2         [2316182, 2669925, 4108700, 1561830, 17398608,...\n",
       "3         [1977307, 1054261, 1553539, 571953, 7801169, 8...\n",
       "4         [1652888, 4097654, 3743117, 8838460, 3607721, ...\n",
       "                                ...                        \n",
       "160105    [951799114, 1854879239, 4247449365, 1547854251...\n",
       "160106    [2423266424, 3583945328, 1697077480, 395307164...\n",
       "160107    [720630150, 180770797, 1768760589, 804380883, ...\n",
       "160108    [1741782383, 1286326773, 4150332639, 167529337...\n",
       "160109    [1741782383, 1286326773, 4150332639, 167529337...\n",
       "Name: user_id, Length: 160110, dtype: object"
      ]
     },
     "execution_count": 22,
     "metadata": {},
     "output_type": "execute_result"
    }
   ],
   "source": [
    "minhash_per_item = (\n",
    "    play_stream\n",
    "    .progress_apply(get_hash)\n",
    ")\n",
    "minhash_per_item"
   ]
  },
  {
   "cell_type": "code",
   "execution_count": 23,
   "metadata": {},
   "outputs": [
    {
     "data": {
      "text/html": [
       "<div>\n",
       "<style scoped>\n",
       "    .dataframe tbody tr th:only-of-type {\n",
       "        vertical-align: middle;\n",
       "    }\n",
       "\n",
       "    .dataframe tbody tr th {\n",
       "        vertical-align: top;\n",
       "    }\n",
       "\n",
       "    .dataframe thead th {\n",
       "        text-align: right;\n",
       "    }\n",
       "</style>\n",
       "<table border=\"1\" class=\"dataframe\">\n",
       "  <thead>\n",
       "    <tr style=\"text-align: right;\">\n",
       "      <th></th>\n",
       "      <th>sig0</th>\n",
       "      <th>sig1</th>\n",
       "      <th>sig2</th>\n",
       "      <th>sig3</th>\n",
       "      <th>sig4</th>\n",
       "      <th>sig5</th>\n",
       "      <th>sig6</th>\n",
       "      <th>sig7</th>\n",
       "      <th>sig8</th>\n",
       "      <th>sig9</th>\n",
       "      <th>...</th>\n",
       "      <th>sig118</th>\n",
       "      <th>sig119</th>\n",
       "      <th>sig120</th>\n",
       "      <th>sig121</th>\n",
       "      <th>sig122</th>\n",
       "      <th>sig123</th>\n",
       "      <th>sig124</th>\n",
       "      <th>sig125</th>\n",
       "      <th>sig126</th>\n",
       "      <th>sig127</th>\n",
       "    </tr>\n",
       "    <tr>\n",
       "      <th>artist_id</th>\n",
       "      <th></th>\n",
       "      <th></th>\n",
       "      <th></th>\n",
       "      <th></th>\n",
       "      <th></th>\n",
       "      <th></th>\n",
       "      <th></th>\n",
       "      <th></th>\n",
       "      <th></th>\n",
       "      <th></th>\n",
       "      <th></th>\n",
       "      <th></th>\n",
       "      <th></th>\n",
       "      <th></th>\n",
       "      <th></th>\n",
       "      <th></th>\n",
       "      <th></th>\n",
       "      <th></th>\n",
       "      <th></th>\n",
       "      <th></th>\n",
       "      <th></th>\n",
       "    </tr>\n",
       "  </thead>\n",
       "  <tbody>\n",
       "    <tr>\n",
       "      <th>0</th>\n",
       "      <td>15272515</td>\n",
       "      <td>7929136</td>\n",
       "      <td>54786193</td>\n",
       "      <td>220850801</td>\n",
       "      <td>148469233</td>\n",
       "      <td>129193264</td>\n",
       "      <td>151833698</td>\n",
       "      <td>32190803</td>\n",
       "      <td>72030142</td>\n",
       "      <td>106014141</td>\n",
       "      <td>...</td>\n",
       "      <td>285663242</td>\n",
       "      <td>20262139</td>\n",
       "      <td>12990350</td>\n",
       "      <td>21532253</td>\n",
       "      <td>185151218</td>\n",
       "      <td>159232678</td>\n",
       "      <td>34536932</td>\n",
       "      <td>61756701</td>\n",
       "      <td>78849441</td>\n",
       "      <td>119144360</td>\n",
       "    </tr>\n",
       "    <tr>\n",
       "      <th>1</th>\n",
       "      <td>219544</td>\n",
       "      <td>472353</td>\n",
       "      <td>153487</td>\n",
       "      <td>136833</td>\n",
       "      <td>212995</td>\n",
       "      <td>346387</td>\n",
       "      <td>505720</td>\n",
       "      <td>208617</td>\n",
       "      <td>218104</td>\n",
       "      <td>593208</td>\n",
       "      <td>...</td>\n",
       "      <td>419089</td>\n",
       "      <td>623455</td>\n",
       "      <td>868879</td>\n",
       "      <td>106014</td>\n",
       "      <td>130336</td>\n",
       "      <td>1134767</td>\n",
       "      <td>232626</td>\n",
       "      <td>409169</td>\n",
       "      <td>1772688</td>\n",
       "      <td>138745</td>\n",
       "    </tr>\n",
       "    <tr>\n",
       "      <th>2</th>\n",
       "      <td>2316182</td>\n",
       "      <td>2669925</td>\n",
       "      <td>4108700</td>\n",
       "      <td>1561830</td>\n",
       "      <td>17398608</td>\n",
       "      <td>5668259</td>\n",
       "      <td>4294243</td>\n",
       "      <td>3828143</td>\n",
       "      <td>20816126</td>\n",
       "      <td>3376388</td>\n",
       "      <td>...</td>\n",
       "      <td>741346</td>\n",
       "      <td>2162120</td>\n",
       "      <td>1574153</td>\n",
       "      <td>697069</td>\n",
       "      <td>18495062</td>\n",
       "      <td>2420681</td>\n",
       "      <td>7216669</td>\n",
       "      <td>9287660</td>\n",
       "      <td>2476826</td>\n",
       "      <td>17341546</td>\n",
       "    </tr>\n",
       "    <tr>\n",
       "      <th>3</th>\n",
       "      <td>1977307</td>\n",
       "      <td>1054261</td>\n",
       "      <td>1553539</td>\n",
       "      <td>571953</td>\n",
       "      <td>7801169</td>\n",
       "      <td>836069</td>\n",
       "      <td>1598983</td>\n",
       "      <td>1727387</td>\n",
       "      <td>28286</td>\n",
       "      <td>1692707</td>\n",
       "      <td>...</td>\n",
       "      <td>654609</td>\n",
       "      <td>1126684</td>\n",
       "      <td>1999946</td>\n",
       "      <td>3790200</td>\n",
       "      <td>328002</td>\n",
       "      <td>6616527</td>\n",
       "      <td>2228328</td>\n",
       "      <td>302693</td>\n",
       "      <td>40856</td>\n",
       "      <td>190736</td>\n",
       "    </tr>\n",
       "    <tr>\n",
       "      <th>4</th>\n",
       "      <td>1652888</td>\n",
       "      <td>4097654</td>\n",
       "      <td>3743117</td>\n",
       "      <td>8838460</td>\n",
       "      <td>3607721</td>\n",
       "      <td>2329176</td>\n",
       "      <td>5720695</td>\n",
       "      <td>8343277</td>\n",
       "      <td>5818621</td>\n",
       "      <td>11115887</td>\n",
       "      <td>...</td>\n",
       "      <td>3837885</td>\n",
       "      <td>1399469</td>\n",
       "      <td>65564</td>\n",
       "      <td>3750797</td>\n",
       "      <td>960596</td>\n",
       "      <td>3244396</td>\n",
       "      <td>4194281</td>\n",
       "      <td>5287100</td>\n",
       "      <td>1590393</td>\n",
       "      <td>15457</td>\n",
       "    </tr>\n",
       "    <tr>\n",
       "      <th>...</th>\n",
       "      <td>...</td>\n",
       "      <td>...</td>\n",
       "      <td>...</td>\n",
       "      <td>...</td>\n",
       "      <td>...</td>\n",
       "      <td>...</td>\n",
       "      <td>...</td>\n",
       "      <td>...</td>\n",
       "      <td>...</td>\n",
       "      <td>...</td>\n",
       "      <td>...</td>\n",
       "      <td>...</td>\n",
       "      <td>...</td>\n",
       "      <td>...</td>\n",
       "      <td>...</td>\n",
       "      <td>...</td>\n",
       "      <td>...</td>\n",
       "      <td>...</td>\n",
       "      <td>...</td>\n",
       "      <td>...</td>\n",
       "      <td>...</td>\n",
       "    </tr>\n",
       "    <tr>\n",
       "      <th>160105</th>\n",
       "      <td>951799114</td>\n",
       "      <td>1854879239</td>\n",
       "      <td>4247449365</td>\n",
       "      <td>1547854251</td>\n",
       "      <td>1160565990</td>\n",
       "      <td>3668936329</td>\n",
       "      <td>4156069434</td>\n",
       "      <td>1981523146</td>\n",
       "      <td>991820527</td>\n",
       "      <td>1062032107</td>\n",
       "      <td>...</td>\n",
       "      <td>3366869862</td>\n",
       "      <td>3666061203</td>\n",
       "      <td>529114427</td>\n",
       "      <td>596484597</td>\n",
       "      <td>44481688</td>\n",
       "      <td>3482473300</td>\n",
       "      <td>48484541</td>\n",
       "      <td>3787114399</td>\n",
       "      <td>747956424</td>\n",
       "      <td>3997977448</td>\n",
       "    </tr>\n",
       "    <tr>\n",
       "      <th>160106</th>\n",
       "      <td>2423266424</td>\n",
       "      <td>3583945328</td>\n",
       "      <td>1697077480</td>\n",
       "      <td>3953071647</td>\n",
       "      <td>611347776</td>\n",
       "      <td>2423315376</td>\n",
       "      <td>317309556</td>\n",
       "      <td>2976015654</td>\n",
       "      <td>3413969749</td>\n",
       "      <td>3676028536</td>\n",
       "      <td>...</td>\n",
       "      <td>2129998970</td>\n",
       "      <td>978934029</td>\n",
       "      <td>196219302</td>\n",
       "      <td>1312992217</td>\n",
       "      <td>2210018945</td>\n",
       "      <td>3903786975</td>\n",
       "      <td>2853574539</td>\n",
       "      <td>592227410</td>\n",
       "      <td>3611773069</td>\n",
       "      <td>4120859720</td>\n",
       "    </tr>\n",
       "    <tr>\n",
       "      <th>160107</th>\n",
       "      <td>720630150</td>\n",
       "      <td>180770797</td>\n",
       "      <td>1768760589</td>\n",
       "      <td>804380883</td>\n",
       "      <td>1830534683</td>\n",
       "      <td>3668193745</td>\n",
       "      <td>3824152446</td>\n",
       "      <td>1903889119</td>\n",
       "      <td>848275811</td>\n",
       "      <td>1196171276</td>\n",
       "      <td>...</td>\n",
       "      <td>2949029734</td>\n",
       "      <td>2160684325</td>\n",
       "      <td>1722904350</td>\n",
       "      <td>2439634735</td>\n",
       "      <td>1448679535</td>\n",
       "      <td>2106267287</td>\n",
       "      <td>2063784359</td>\n",
       "      <td>4246900980</td>\n",
       "      <td>51876737</td>\n",
       "      <td>445005217</td>\n",
       "    </tr>\n",
       "    <tr>\n",
       "      <th>160108</th>\n",
       "      <td>1741782383</td>\n",
       "      <td>1286326773</td>\n",
       "      <td>4150332639</td>\n",
       "      <td>1675293374</td>\n",
       "      <td>197421572</td>\n",
       "      <td>1176580331</td>\n",
       "      <td>3191575451</td>\n",
       "      <td>3469730157</td>\n",
       "      <td>1493787956</td>\n",
       "      <td>548116222</td>\n",
       "      <td>...</td>\n",
       "      <td>1626671209</td>\n",
       "      <td>71124821</td>\n",
       "      <td>2120339757</td>\n",
       "      <td>1706043572</td>\n",
       "      <td>728158693</td>\n",
       "      <td>3795006693</td>\n",
       "      <td>3082018583</td>\n",
       "      <td>2259003803</td>\n",
       "      <td>1661831016</td>\n",
       "      <td>3959399716</td>\n",
       "    </tr>\n",
       "    <tr>\n",
       "      <th>160109</th>\n",
       "      <td>1741782383</td>\n",
       "      <td>1286326773</td>\n",
       "      <td>4150332639</td>\n",
       "      <td>1675293374</td>\n",
       "      <td>197421572</td>\n",
       "      <td>1176580331</td>\n",
       "      <td>3191575451</td>\n",
       "      <td>3469730157</td>\n",
       "      <td>1493787956</td>\n",
       "      <td>548116222</td>\n",
       "      <td>...</td>\n",
       "      <td>1626671209</td>\n",
       "      <td>71124821</td>\n",
       "      <td>2120339757</td>\n",
       "      <td>1706043572</td>\n",
       "      <td>728158693</td>\n",
       "      <td>3795006693</td>\n",
       "      <td>3082018583</td>\n",
       "      <td>2259003803</td>\n",
       "      <td>1661831016</td>\n",
       "      <td>3959399716</td>\n",
       "    </tr>\n",
       "  </tbody>\n",
       "</table>\n",
       "<p>160110 rows × 128 columns</p>\n",
       "</div>"
      ],
      "text/plain": [
       "                 sig0        sig1        sig2        sig3        sig4  \\\n",
       "artist_id                                                               \n",
       "0            15272515     7929136    54786193   220850801   148469233   \n",
       "1              219544      472353      153487      136833      212995   \n",
       "2             2316182     2669925     4108700     1561830    17398608   \n",
       "3             1977307     1054261     1553539      571953     7801169   \n",
       "4             1652888     4097654     3743117     8838460     3607721   \n",
       "...               ...         ...         ...         ...         ...   \n",
       "160105      951799114  1854879239  4247449365  1547854251  1160565990   \n",
       "160106     2423266424  3583945328  1697077480  3953071647   611347776   \n",
       "160107      720630150   180770797  1768760589   804380883  1830534683   \n",
       "160108     1741782383  1286326773  4150332639  1675293374   197421572   \n",
       "160109     1741782383  1286326773  4150332639  1675293374   197421572   \n",
       "\n",
       "                 sig5        sig6        sig7        sig8        sig9  ...  \\\n",
       "artist_id                                                              ...   \n",
       "0           129193264   151833698    32190803    72030142   106014141  ...   \n",
       "1              346387      505720      208617      218104      593208  ...   \n",
       "2             5668259     4294243     3828143    20816126     3376388  ...   \n",
       "3              836069     1598983     1727387       28286     1692707  ...   \n",
       "4             2329176     5720695     8343277     5818621    11115887  ...   \n",
       "...               ...         ...         ...         ...         ...  ...   \n",
       "160105     3668936329  4156069434  1981523146   991820527  1062032107  ...   \n",
       "160106     2423315376   317309556  2976015654  3413969749  3676028536  ...   \n",
       "160107     3668193745  3824152446  1903889119   848275811  1196171276  ...   \n",
       "160108     1176580331  3191575451  3469730157  1493787956   548116222  ...   \n",
       "160109     1176580331  3191575451  3469730157  1493787956   548116222  ...   \n",
       "\n",
       "               sig118      sig119      sig120      sig121      sig122  \\\n",
       "artist_id                                                               \n",
       "0           285663242    20262139    12990350    21532253   185151218   \n",
       "1              419089      623455      868879      106014      130336   \n",
       "2              741346     2162120     1574153      697069    18495062   \n",
       "3              654609     1126684     1999946     3790200      328002   \n",
       "4             3837885     1399469       65564     3750797      960596   \n",
       "...               ...         ...         ...         ...         ...   \n",
       "160105     3366869862  3666061203   529114427   596484597    44481688   \n",
       "160106     2129998970   978934029   196219302  1312992217  2210018945   \n",
       "160107     2949029734  2160684325  1722904350  2439634735  1448679535   \n",
       "160108     1626671209    71124821  2120339757  1706043572   728158693   \n",
       "160109     1626671209    71124821  2120339757  1706043572   728158693   \n",
       "\n",
       "               sig123      sig124      sig125      sig126      sig127  \n",
       "artist_id                                                              \n",
       "0           159232678    34536932    61756701    78849441   119144360  \n",
       "1             1134767      232626      409169     1772688      138745  \n",
       "2             2420681     7216669     9287660     2476826    17341546  \n",
       "3             6616527     2228328      302693       40856      190736  \n",
       "4             3244396     4194281     5287100     1590393       15457  \n",
       "...               ...         ...         ...         ...         ...  \n",
       "160105     3482473300    48484541  3787114399   747956424  3997977448  \n",
       "160106     3903786975  2853574539   592227410  3611773069  4120859720  \n",
       "160107     2106267287  2063784359  4246900980    51876737   445005217  \n",
       "160108     3795006693  3082018583  2259003803  1661831016  3959399716  \n",
       "160109     3795006693  3082018583  2259003803  1661831016  3959399716  \n",
       "\n",
       "[160110 rows x 128 columns]"
      ]
     },
     "execution_count": 23,
     "metadata": {},
     "output_type": "execute_result"
    }
   ],
   "source": [
    "minhv_df = pd.DataFrame(np.stack(minhash_per_item.values))\n",
    "minhv_df.index = minhash_per_item.index\n",
    "columns = [f\"sig{col}\" for col in minhv_df.columns]\n",
    "minhv_df.columns = columns\n",
    "minhv_df"
   ]
  },
  {
   "cell_type": "markdown",
   "metadata": {},
   "source": [
    "### Secondary Index로 구성하여 Redis에 저장하기\n",
    "\n",
    "\n",
    "Redis에 Secondary Index 방식으로 접근하면 빠르게 처리할 수 있습니다. 각 Signature의 Value를 Key 값으로 두고, 해당 Value를 가지고 있는 아이템의 리스트를 집합으로 두면 됩니다. Naive하게 String으로 할 경우 Database의 용량을 지나치게 많이 먹을 수 있기 때문에, 이를 줄이기 위해 `snappy`를 이용해 string의 길이를 줄여줍니다. 좀더 빠르게 처리하기 위해 multiprocessing을 활용하였습니다. 8core macbook pro환경에서는 대략 1시간정도 소요되었습니다. \n",
    "\n",
    "***caution***\n",
    "\n",
    "현재 노트북이 돌고 있는 서버에 `redis`가 동작하고 있어야 합니다. 아닌 경우 Docker를 통해 간단히 실행시킬 수 있습니다.\n",
    "\n",
    "````shell\n",
    "docker run --name redis -p 6379:6379 -d --rm redis\n",
    "````"
   ]
  },
  {
   "cell_type": "code",
   "execution_count": 38,
   "metadata": {},
   "outputs": [],
   "source": [
    "from redis import Redis\n",
    "import snappy\n",
    "\n",
    "def etl_worker(inputs):\n",
    "    \"\"\"\n",
    "    각 signature 별로 Key-Value 형태로 Redis에 ETL하는 메소드\n",
    "    \"\"\"\n",
    "    \n",
    "    sig_name, signature_series = inputs\n",
    "    \n",
    "    db = Redis('localhost', port=6379)   \n",
    "    print(f\"start {sig_name} processing\")\n",
    "    for sig_value, grouped in (\n",
    "        signature_series.groupby(signature_series)):\n",
    "        # Key로 만들기\n",
    "        key_string = \"{}-{}\".format(sig_name, sig_value)\n",
    "        # Value를 String으로 만들기\n",
    "        value_string = snappy.compress(\n",
    "            str(grouped.index.values.tolist()))\n",
    "        db.set(key_string, value_string)"
   ]
  },
  {
   "cell_type": "code",
   "execution_count": null,
   "metadata": {},
   "outputs": [],
   "source": [
    "from multiprocessing import Pool, cpu_count\n",
    "\n",
    "pool = Pool(cpu_count())\n",
    "pool.map(etl_worker, minhv_df.iteritems())"
   ]
  },
  {
   "cell_type": "markdown",
   "metadata": {},
   "source": [
    "## 추천 시스템 동작하기\n",
    "\n",
    "실시간 추천이 가능한지를 살펴보도록 하겠습니다. 실시간 추천이 되기 위해서는 요청이 들어왔을 때 얼마나 빠르게 처리할 수 있는지와 새로 데이터가 들어왔을 때 얼마나 빠르게 업데이트가 되는지를 보도록 하겠습니다."
   ]
  },
  {
   "cell_type": "markdown",
   "metadata": {},
   "source": [
    "#### (1) 아이템 추천하기"
   ]
  },
  {
   "cell_type": "code",
   "execution_count": 52,
   "metadata": {},
   "outputs": [
    {
     "name": "stdout",
     "output_type": "stream",
     "text": [
      "     artist_id artist_name\n",
      "353        353     madonna\n"
     ]
    }
   ],
   "source": [
    "# 마돈나를 들은 사람에게 추천\n",
    "print(artist_df[artist_df.artist_name=='madonna'])\n",
    "target_item = minhv_df.loc[353]"
   ]
  },
  {
   "cell_type": "code",
   "execution_count": 65,
   "metadata": {},
   "outputs": [
    {
     "name": "stdout",
     "output_type": "stream",
     "text": [
      "31.9 ms ± 3.37 ms per loop (mean ± std. dev. of 3 runs, 3 loops each)\n"
     ]
    }
   ],
   "source": [
    "%%timeit -n 3 -r 3\n",
    "# set Query\n",
    "querys = [f'{k}-{v}' for k, v in target_item.items()]\n",
    "\n",
    "# 퀴리를 통해 redis에서 가져오기\n",
    "db = Redis('localhost', port=6379)   \n",
    "intersected_ids = np.concatenate(\n",
    "    [json.loads(snappy.decompress(row).decode('utf8')) for row in db.mget(querys)])\n",
    "\n",
    "# 아이템 count하기\n",
    "items, counts = np.unique(intersected_ids, return_counts=True)   \n",
    "\n",
    "artist_names = [artist_df.loc[item,\"artist_name\"] for item in items]\n",
    "result = (\n",
    "    pd.Series(counts,index=artist_names)\n",
    "    .sort_values(ascending=False)\n",
    "    .iloc[:5])"
   ]
  },
  {
   "cell_type": "code",
   "execution_count": 66,
   "metadata": {},
   "outputs": [
    {
     "data": {
      "text/plain": [
       "madonna            128\n",
       "michael jackson     28\n",
       "kylie minogue       24\n",
       "britney spears      24\n",
       "rihanna             22\n",
       "dtype: int64"
      ]
     },
     "execution_count": 66,
     "metadata": {},
     "output_type": "execute_result"
    }
   ],
   "source": [
    "result"
   ]
  },
  {
   "cell_type": "markdown",
   "metadata": {},
   "source": [
    "### (2) 정보 갱신하기\n",
    "\n",
    "#### 예제 상황 \n",
    "> 유저(241)번이 마돈나(353)을 보았을 때"
   ]
  },
  {
   "cell_type": "code",
   "execution_count": 96,
   "metadata": {},
   "outputs": [],
   "source": [
    "user_id = 241\n",
    "artist_id = 353\n",
    "old_minhash = minhv_df.loc[artist_id]"
   ]
  },
  {
   "cell_type": "code",
   "execution_count": 99,
   "metadata": {},
   "outputs": [],
   "source": [
    "# 유저 241번의 minhash value\n",
    "new_minhash = get_hash([user_id])"
   ]
  },
  {
   "cell_type": "markdown",
   "metadata": {},
   "source": [
    "MinHash를 갱신하는 것은 추가할 MinHash와 기존 MinHash값을 서로 비교해서 각 Signature의 최소값으로 갱신해주면 됩니다."
   ]
  },
  {
   "cell_type": "code",
   "execution_count": 100,
   "metadata": {},
   "outputs": [],
   "source": [
    "updated_minhash = np.minimum(old_minhash, new_minhash)"
   ]
  },
  {
   "cell_type": "markdown",
   "metadata": {},
   "source": [
    "#### Secondary Index 업데이트 하기\n",
    "\n",
    "old signature value에서 artist를 빼주고, new signature value에서는 artist를 추가해주면 끝입니다"
   ]
  },
  {
   "cell_type": "code",
   "execution_count": 118,
   "metadata": {},
   "outputs": [
    {
     "name": "stdout",
     "output_type": "stream",
     "text": [
      "4.64 ms ± 258 µs per loop (mean ± std. dev. of 3 runs, 3 loops each)\n"
     ]
    }
   ],
   "source": [
    "%%timeit -n 3 -r 3\n",
    "\n",
    "# 지난 secondary index 지우기\n",
    "old_kv = old_minhash[updated_minhash!=old_minhash]\n",
    "old_kv\n",
    "\n",
    "for k, v in old_kv.items():\n",
    "    old_index_list = json.loads(snappy.decompress(db.get(f\"{k}-{v}\")))\n",
    "    \n",
    "    if artist_id not in old_index_list:\n",
    "        continue\n",
    "    old_index_list.remove(artist_id)\n",
    "    \n",
    "    db.set(f\"{k}-{v}\", snappy.compress(str(old_index_list)))\n",
    "\n",
    "# 업데이트된 secondary index 추가하기\n",
    "new_kv = updated_minhash[updated_minhash!=old_minhash]\n",
    "\n",
    "for k, v in new_kv.items():\n",
    "    new_index_list = json.loads(snappy.decompress(db.get(f\"{k}-{v}\")))\n",
    "    \n",
    "    if artist_id in new_index_list:\n",
    "        continue\n",
    "    new_index_list.append(artist_id)\n",
    "    new_index_list = sorted(new_index_list)\n",
    "    \n",
    "    db.set(f\"{k}-{v}\", snappy.compress(str(new_index_list)))"
   ]
  }
 ],
 "metadata": {
  "kernelspec": {
   "display_name": "Python 3",
   "language": "python",
   "name": "python3"
  },
  "language_info": {
   "codemirror_mode": {
    "name": "ipython",
    "version": 3
   },
   "file_extension": ".py",
   "mimetype": "text/x-python",
   "name": "python",
   "nbconvert_exporter": "python",
   "pygments_lexer": "ipython3",
   "version": "3.6.8"
  },
  "toc": {
   "base_numbering": 1,
   "nav_menu": {},
   "number_sections": false,
   "sideBar": true,
   "skip_h1_title": false,
   "title_cell": "Table of Contents",
   "title_sidebar": "Contents",
   "toc_cell": false,
   "toc_position": {},
   "toc_section_display": true,
   "toc_window_display": false
  },
  "varInspector": {
   "cols": {
    "lenName": 16,
    "lenType": 16,
    "lenVar": 40
   },
   "kernels_config": {
    "python": {
     "delete_cmd_postfix": "",
     "delete_cmd_prefix": "del ",
     "library": "var_list.py",
     "varRefreshCmd": "print(var_dic_list())"
    },
    "r": {
     "delete_cmd_postfix": ") ",
     "delete_cmd_prefix": "rm(",
     "library": "var_list.r",
     "varRefreshCmd": "cat(var_dic_list()) "
    }
   },
   "types_to_exclude": [
    "module",
    "function",
    "builtin_function_or_method",
    "instance",
    "_Feature"
   ],
   "window_display": false
  }
 },
 "nbformat": 4,
 "nbformat_minor": 2
}
