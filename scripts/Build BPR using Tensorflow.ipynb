{
 "cells": [
  {
   "cell_type": "markdown",
   "metadata": {},
   "source": [
    "### 필요한 모듈 가져오기"
   ]
  },
  {
   "cell_type": "code",
   "execution_count": 1,
   "metadata": {},
   "outputs": [],
   "source": [
    "%matplotlib inline\n",
    "\n",
    "import numpy as np\n",
    "import pandas as pd\n",
    "from tqdm import tqdm\n",
    "import tensorflow as tf\n",
    "import matplotlib.pyplot as plt\n",
    "tqdm.pandas()\n",
    "np.set_printoptions(5,)\n",
    "\n",
    "assert int(tf.__version__[0]) == 2, \"tensorflow 2.x대에서 동작합니다.\""
   ]
  },
  {
   "cell_type": "markdown",
   "metadata": {},
   "source": [
    "### 데이터 가져오기 \n",
    "\n",
    "데이터는 last.fm 데이터셋입니다."
   ]
  },
  {
   "cell_type": "code",
   "execution_count": 2,
   "metadata": {},
   "outputs": [],
   "source": [
    "from tensorflow.keras.utils import get_file\n",
    "\n",
    "ROOT_URL = \"https://craftsangjae.s3.ap-northeast-2.amazonaws.com/data/\"\n",
    "\n",
    "# 데이터 가져오기\n",
    "play_path = get_file(\"lastfm_play.csv\",\n",
    "                     ROOT_URL+\"lastfm_play.csv\")\n",
    "artist_path = get_file(\"lastfm_artist.csv\",\n",
    "                       ROOT_URL+\"lastfm_artist.csv\")\n",
    "user_path = get_file(\"lastfm_user.csv\",\n",
    "                     ROOT_URL+\"lastfm_user.csv\")\n",
    "\n",
    "play_df = pd.read_csv(play_path)\n",
    "artist_df = pd.read_csv(artist_path)\n",
    "user_df = pd.read_csv(user_path)"
   ]
  },
  {
   "cell_type": "markdown",
   "metadata": {},
   "source": [
    "## 모델 구성하기"
   ]
  },
  {
   "cell_type": "markdown",
   "metadata": {},
   "source": [
    "### 1. 주요 Hyper-Parameter \n",
    "\n",
    "##### 주의점\n",
    "\n",
    "\n",
    "* `user_id`와 `artist_id`를 바로 index로 쓰기 위해 아래와 같이 구성"
   ]
  },
  {
   "cell_type": "code",
   "execution_count": 3,
   "metadata": {},
   "outputs": [],
   "source": [
    "num_user = play_df.user_id.max() + 1 # user id 가짓 수\n",
    "num_item = play_df.artist_id.max() + 1 # item id 가짓 수\n",
    "num_factor = 32 # 사용할 Factor의 크기"
   ]
  },
  {
   "cell_type": "markdown",
   "metadata": {},
   "source": [
    "### 2. `Embedding` 레이어 추가하기\n",
    "\n",
    "##### 주의점\n",
    "\n",
    "* `implicit`의 초기화 규칙을 따랐음\n",
    "* 수식의 가독성을 위해 아이템에 대한 bias항과 embedding 항을 분리. "
   ]
  },
  {
   "cell_type": "code",
   "execution_count": 4,
   "metadata": {},
   "outputs": [],
   "source": [
    "from tensorflow.keras.layers import Input\n",
    "from tensorflow.keras.layers import Embedding\n",
    "from tensorflow.keras.initializers import RandomUniform\n",
    "\n",
    "user_id = Input(shape=(), dtype=tf.int32, name='user')  \n",
    "pos_item_id = Input(shape=(), dtype=tf.int32, name='pos_item')\n",
    "neg_item_id = Input(shape=(), dtype=tf.int32, name='neg_item') \n",
    "\n",
    "# 초기화 함수 : Uniform 분포\n",
    "init_range = 1 / (2*num_factor)\n",
    "initializer = RandomUniform(minval=-init_range, maxval=init_range)\n",
    "\n",
    "# Embedding Layer 선언하기\n",
    "user_embedding_layer = Embedding(num_user, num_factor, \n",
    "                                 embeddings_initializer=initializer,\n",
    "                                 name='user_embedding')\n",
    "item_embedding_layer = Embedding(num_item, num_factor, \n",
    "                                 embeddings_initializer=initializer,\n",
    "                                 name='item_embedding')\n",
    "item_bias_layer = Embedding(num_item, 1, \n",
    "                            embeddings_initializer='zeros',\n",
    "                            name='item_bias')"
   ]
  },
  {
   "cell_type": "markdown",
   "metadata": {},
   "source": [
    "### 3. `pos_score`와 `neg_score` 연산하기"
   ]
  },
  {
   "cell_type": "code",
   "execution_count": 5,
   "metadata": {},
   "outputs": [],
   "source": [
    "from tensorflow.keras.layers import Dot\n",
    "\n",
    "user_embedding = user_embedding_layer(user_id)\n",
    "\n",
    "pos_item_embedding = item_embedding_layer(pos_item_id)\n",
    "neg_item_embedding = item_embedding_layer(neg_item_id)\n",
    "\n",
    "pos_item_bias = item_bias_layer(pos_item_id)\n",
    "neg_item_bias = item_bias_layer(neg_item_id)\n",
    "\n",
    "pos_score = (\n",
    "    Dot(axes=(1,1))([user_embedding, pos_item_embedding]) + pos_item_bias)\n",
    "neg_score = (\n",
    "    Dot(axes=(1,1))([user_embedding, neg_item_embedding]) + neg_item_bias)\n",
    "\n",
    "score = pos_score - neg_score"
   ]
  },
  {
   "cell_type": "markdown",
   "metadata": {},
   "source": [
    "### 4. 모델 선언하기\n",
    "\n",
    "##### 주의점\n",
    "\n",
    "* 아래와 같이 input이 dict이면, 모델에 입력데이터를 넣을 때에도 dict로 넣어주어야 함"
   ]
  },
  {
   "cell_type": "code",
   "execution_count": 6,
   "metadata": {},
   "outputs": [],
   "source": [
    "from tensorflow.keras.models import Model\n",
    "\n",
    "inputs = {\n",
    "    \"user\": user_id,\n",
    "    \"pos_item\": pos_item_id,\n",
    "    \"neg_item\": neg_item_id\n",
    "}\n",
    "\n",
    "model = Model(inputs, score, name='bpr')"
   ]
  },
  {
   "cell_type": "markdown",
   "metadata": {},
   "source": [
    "### 5. 정규화 항 추가하기\n",
    "\n",
    "##### 주의점\n",
    "\n",
    "* `implicit`의 default l2 정규화 항이 0.01로 세팅되어 있음, 이와 동일하게 세팅\n",
    "* `Embedding`레이어의 `embeddings_regularizers`에 정규화 항을 추가할 경우, 연산에 포함되지 않은 weight마저도 weight decay가 적용됨.\n",
    "     - 예를 들어, user_id=13, pos_item_id=15,neg_item_id=17이면, $embed_{user =13}$,$embed_{item=15}$,$embed_{item=17}$만 weight decay되어야 하는데, 그외 임베딩 변수도 전부 포함"
   ]
  },
  {
   "cell_type": "code",
   "execution_count": 7,
   "metadata": {},
   "outputs": [],
   "source": [
    "from tensorflow.keras import backend as K\n",
    "\n",
    "l2_reg = 1e-1\n",
    "\n",
    "# user embedding Regularization\n",
    "user_reg = l2_reg *(\n",
    "    K.sum(user_embedding**2))\n",
    "\n",
    "model.add_loss(user_reg)\n",
    "\n",
    "# item embedding regularization \n",
    "item_reg = l2_reg * (\n",
    "    K.sum(pos_item_embedding**2) \n",
    "    + K.sum(neg_item_embedding**2))\n",
    "\n",
    "model.add_loss(item_reg)\n",
    "\n",
    "# item bias regulairzation\n",
    "bias_reg = l2_reg * (\n",
    "    K.sum(pos_item_bias**2) \n",
    "    + K.sum(neg_item_bias**2))\n",
    "\n",
    "model.add_loss(bias_reg)"
   ]
  },
  {
   "cell_type": "markdown",
   "metadata": {},
   "source": [
    "### 6. 손실함수와 옵티마이저 세팅하기\n",
    "\n",
    "##### 주의점\n",
    "\n",
    "* **논문 내 수식을 참조**\n",
    "    \n",
    "    시그모이드 함수에 바로 로그함수를 씌운 것을 손실함수로 이용했다는 것을 볼 수 있음. 그리고 평균이 아닌 합계로 aggregation함.\n",
    "    \n",
    "    $\n",
    "    \\mbox{BPR-OPT} := \\sum_{(u,i,j)\\in D_S}  \\ln\\sigma(\\hat x_{uij}) - \\lambda_{\\Theta}||\\Theta||^2\n",
    "    $\n",
    "    \n",
    "* 모델의 출력값은 ($-\\infty, +\\infty$) 범위의 출력값으로, 양수이면 True, 음수이면 False가 됨. BinaryAccuracy의 threshold은 0이 되어야 함"
   ]
  },
  {
   "cell_type": "code",
   "execution_count": 8,
   "metadata": {},
   "outputs": [],
   "source": [
    "from tensorflow.keras import backend as K\n",
    "\n",
    "@tf.function\n",
    "def log_sigmoid(y_true, y_pred): \n",
    "    return -K.sum(K.log(K.sigmoid(y_pred)))"
   ]
  },
  {
   "cell_type": "markdown",
   "metadata": {},
   "source": [
    "정규화항의 크기를 추적하기 위해 아래와 같이 metric 함수를 구성"
   ]
  },
  {
   "cell_type": "code",
   "execution_count": 9,
   "metadata": {},
   "outputs": [],
   "source": [
    "def user_reg(x,y):\n",
    "    return model.losses[0]/l2_reg\n",
    "\n",
    "def item_reg(x,y):\n",
    "    return model.losses[1]/l2_reg\n",
    "    \n",
    "def bias_reg(x,y):\n",
    "    return model.losses[2]/l2_reg"
   ]
  },
  {
   "cell_type": "markdown",
   "metadata": {},
   "source": [
    "각각 항에 대한 정규화항 크기, 목적함수인 log sigmoid, 정확도를 metric으로 삼음"
   ]
  },
  {
   "cell_type": "code",
   "execution_count": 10,
   "metadata": {},
   "outputs": [],
   "source": [
    "from tensorflow.keras.optimizers import SGD\n",
    "from tensorflow.keras.metrics import BinaryAccuracy\n",
    "\n",
    "lr = 1e-2\n",
    "\n",
    "metrics = [user_reg, item_reg, bias_reg, \n",
    "           log_sigmoid, BinaryAccuracy(threshold=0.)]\n",
    "\n",
    "model.compile(SGD(lr),\n",
    "              loss=log_sigmoid,\n",
    "              metrics=metrics)"
   ]
  },
  {
   "cell_type": "markdown",
   "metadata": {},
   "source": [
    "### 7. 데이터 파이프라인 구성하기\n",
    "\n",
    "BPR의 손실함수인 Triplet Loss를 계산하기 위해서는 Negative Case를 Bootstraping 해주어야 함. "
   ]
  },
  {
   "cell_type": "code",
   "execution_count": 11,
   "metadata": {},
   "outputs": [],
   "source": [
    "@tf.function\n",
    "def negative_sampling(user_id, pos_item_id):\n",
    "    global num_item\n",
    "    batch_size = tf.shape(user_id)[0]\n",
    "    \n",
    "    # 무작위로 item_id 생성하기 (negative sampling)    \n",
    "    neg_item_id = tf.random.uniform(\n",
    "        (batch_size, ), maxval=num_item, dtype=tf.int32)\n",
    "    \n",
    "    X = {\n",
    "        \"user\":user_id,\n",
    "        \"pos_item\":pos_item_id,\n",
    "        \"neg_item\":neg_item_id\n",
    "    }\n",
    "    \n",
    "    # 더미 변수\n",
    "    Y = tf.ones((batch_size, 1)) \n",
    "    return X, Y"
   ]
  },
  {
   "cell_type": "markdown",
   "metadata": {},
   "source": [
    "#### $\\color{red}{\\text{주의점}}$\n",
    "\n",
    "* `implicit`과 달리 SGD가 아닌 mini-batch SGD를 활용함. "
   ]
  },
  {
   "cell_type": "code",
   "execution_count": 12,
   "metadata": {},
   "outputs": [],
   "source": [
    "batch_size = 1024\n",
    "\n",
    "shuffled = play_df.sample(frac=1)\n",
    "user_ids = shuffled.user_id.values\n",
    "item_ids = shuffled.artist_id.values\n",
    "\n",
    "dataset = (\n",
    "    tf.data.Dataset\n",
    "    .from_tensor_slices((user_ids, item_ids))\n",
    "    .shuffle(batch_size*100) # 데이터 내 순서 shuffling\n",
    "    .batch(batch_size) # 배치 단위로 record 묶기\n",
    "    .map(negative_sampling))"
   ]
  },
  {
   "cell_type": "markdown",
   "metadata": {},
   "source": [
    "### 8. 모델 학습시키기\n",
    "\n",
    "##### 문제점\n",
    "\n",
    "* 정확도가 너무 빠르게 올라감, `implicit` 같은 경우 5 epoch 정도가 소요됨\n",
    "* `bias_reg`가 꾸준히 상승(bias 항의 크기가 계속 커진다는 의미)"
   ]
  },
  {
   "cell_type": "code",
   "execution_count": 13,
   "metadata": {},
   "outputs": [
    {
     "name": "stdout",
     "output_type": "stream",
     "text": [
      "Epoch 1/5\n",
      "16898/16898 [==============================] - 106s 6ms/step - loss: 479.2418 - user_reg: 0.2424 - item_reg: 0.2625 - bias_reg: 85.0453 - log_sigmoid: 393.6686 - binary_accuracy: 0.9515\n",
      "Epoch 2/5\n",
      "16898/16898 [==============================] - 106s 6ms/step - loss: 437.6945 - user_reg: 0.1990 - item_reg: 0.1394 - bias_reg: 96.6183 - log_sigmoid: 340.7177 - binary_accuracy: 0.9572\n",
      "Epoch 3/5\n",
      "16898/16898 [==============================] - 104s 6ms/step - loss: 423.5769 - user_reg: 0.1635 - item_reg: 0.0838 - bias_reg: 98.4566 - log_sigmoid: 324.8524 - binary_accuracy: 0.9579\n",
      "Epoch 4/5\n",
      "16898/16898 [==============================] - 108s 6ms/step - loss: 416.4214 - user_reg: 0.1346 - item_reg: 0.0517 - bias_reg: 101.0888 - log_sigmoid: 315.1241 - binary_accuracy: 0.9582\n",
      "Epoch 5/5\n",
      "16898/16898 [==============================] - 116s 7ms/step - loss: 412.7215 - user_reg: 0.1109 - item_reg: 0.0324 - bias_reg: 103.9482 - log_sigmoid: 308.6114 - binary_accuracy: 0.9583\n"
     ]
    },
    {
     "data": {
      "text/plain": [
       "<tensorflow.python.keras.callbacks.History at 0x119410978>"
      ]
     },
     "execution_count": 13,
     "metadata": {},
     "output_type": "execute_result"
    }
   ],
   "source": [
    "model.fit(dataset, epochs=5)"
   ]
  },
  {
   "cell_type": "markdown",
   "metadata": {},
   "source": [
    "##### 문제점\n",
    "\n",
    "* `item_bias`가 너무 큼, `item_bias`를 위주로 모델이 학습"
   ]
  },
  {
   "cell_type": "code",
   "execution_count": 14,
   "metadata": {},
   "outputs": [
    {
     "name": "stdout",
     "output_type": "stream",
     "text": [
      "user 임베딩 변수 별 벡터 크기 :  3.3737223\n",
      "item 임베딩 변수 별 벡터 크기 :  1.0686212\n",
      "item bias 변수의 벡터 크기 :  247.75345\n"
     ]
    }
   ],
   "source": [
    "user_embeddings = model.get_layer('user_embedding').get_weights()[0]\n",
    "item_embeddings = model.get_layer('item_embedding').get_weights()[0]\n",
    "item_bias = model.get_layer('item_bias').get_weights()[0]\n",
    "\n",
    "print(\"user 임베딩 변수 별 벡터 크기 : \", np.mean(\n",
    "    np.linalg.norm(user_embeddings,axis=0)))\n",
    "print(\"item 임베딩 변수 별 벡터 크기 : \", np.mean(\n",
    "    np.linalg.norm(item_embeddings,axis=0)))\n",
    "print(\"item bias 변수의 벡터 크기 : \", np.mean(\n",
    "    np.linalg.norm(item_bias,axis=0)))"
   ]
  },
  {
   "cell_type": "markdown",
   "metadata": {},
   "source": [
    "분포를 보면 bias는 넓게 퍼진 것을 볼수 있고, embedding은 0 근처에 몰려 있는 것을 볼수 있음."
   ]
  },
  {
   "cell_type": "code",
   "execution_count": 15,
   "metadata": {},
   "outputs": [
    {
     "data": {
      "image/png": "[encoded data removed]",
      "text/plain": [
       "<Figure size 432x288 with 1 Axes>"
      ]
     },
     "metadata": {},
     "output_type": "display_data"
    }
   ],
   "source": [
    "plt.hist(item_bias,bins=100,\n",
    "         alpha=0.5,label='bias')\n",
    "plt.hist(item_embeddings.flatten(), bins=200, \n",
    "         alpha=0.5,label='embedding')\n",
    "plt.legend()\n",
    "plt.show()"
   ]
  },
  {
   "cell_type": "markdown",
   "metadata": {},
   "source": [
    "### 9. 모델 평가하기\n",
    "\n",
    "##### 문제점\n",
    "\n",
    "* 아예 모르는 사람들이 등장함"
   ]
  },
  {
   "cell_type": "code",
   "execution_count": 16,
   "metadata": {},
   "outputs": [
    {
     "data": {
      "text/plain": [
       "artist_name\n",
       "bombardiers         0.000013\n",
       "eurogroove          0.000012\n",
       "truth & soul        0.000011\n",
       "handpolished        0.000011\n",
       "black rabbit        0.000011\n",
       "thee hypnotics      0.000011\n",
       "long john hunter    0.000011\n",
       "hal blaine          0.000011\n",
       "张智成                 0.000011\n",
       "synthetic 16        0.000011\n",
       "dtype: float32"
      ]
     },
     "execution_count": 16,
     "metadata": {},
     "output_type": "execute_result"
    }
   ],
   "source": [
    "artist_embedding_df = pd.DataFrame(item_embeddings,\n",
    "                                   index=artist_df.artist_name)\n",
    "target_embedding = artist_embedding_df.loc['madonna']\n",
    "\n",
    "(\n",
    "    artist_embedding_df\n",
    "    .dot(target_embedding)\n",
    "    .sort_values(ascending=False)\n",
    "    .iloc[:10]\n",
    ")"
   ]
  },
  {
   "cell_type": "markdown",
   "metadata": {},
   "source": [
    "## implicit과의 비교대조 \n",
    "Hyper-parameter 들을 최대한 통일시킨 후에 동작시켰을 때, `implicit`은 성공적으로 학습이 됨"
   ]
  },
  {
   "cell_type": "code",
   "execution_count": 17,
   "metadata": {},
   "outputs": [
    {
     "data": {
      "application/vnd.jupyter.widget-view+json": {
       "model_id": "e1f879d4564d4773a7dc5eb7a2b35745",
       "version_major": 2,
       "version_minor": 0
      },
      "text/plain": [
       "HBox(children=(FloatProgress(value=0.0, max=20.0), HTML(value='')))"
      ]
     },
     "metadata": {},
     "output_type": "display_data"
    },
    {
     "name": "stdout",
     "output_type": "stream",
     "text": [
      "\n"
     ]
    }
   ],
   "source": [
    "from implicit.bpr import BayesianPersonalizedRanking\n",
    "from scipy.sparse import coo_matrix\n",
    "\n",
    "# 모델 생성하기\n",
    "bpr = BayesianPersonalizedRanking(\n",
    "    factors=num_factor, learning_rate=lr,\n",
    "    regularization=1e-2, iterations=20,\n",
    "    verify_negative_samples=False)\n",
    "\n",
    "item_users = coo_matrix(\n",
    "    (play_df.plays,(play_df.artist_id, play_df.user_id)))\n",
    "\n",
    "bpr.fit(item_users)"
   ]
  },
  {
   "cell_type": "markdown",
   "metadata": {},
   "source": [
    "#### 유사한 아티스트 찾기"
   ]
  },
  {
   "cell_type": "code",
   "execution_count": 18,
   "metadata": {},
   "outputs": [
    {
     "data": {
      "text/plain": [
       "artist_name\n",
       "dannii minogue         5.440158\n",
       "melanie c              5.277713\n",
       "kylie minogue          5.200033\n",
       "sugababes              5.164091\n",
       "geri halliwell         5.161406\n",
       "sophie ellis-bextor    5.157198\n",
       "texas                  5.081372\n",
       "lucie silvas           5.043287\n",
       "emma bunton            4.998991\n",
       "the saturdays          4.944204\n",
       "dtype: float32"
      ]
     },
     "execution_count": 18,
     "metadata": {},
     "output_type": "execute_result"
    }
   ],
   "source": [
    "item_factors = bpr.item_factors\n",
    "\n",
    "artist_embedding_df = pd.DataFrame(item_factors,\n",
    "                                   index=artist_df.artist_name)\n",
    "\n",
    "target_embedding = artist_embedding_df.loc['madonna']\n",
    "\n",
    "(\n",
    "    artist_embedding_df\n",
    "    .dot(target_embedding)\n",
    "    .sort_values(ascending=False)\n",
    "    .iloc[:10]\n",
    ")"
   ]
  }
 ],
 "metadata": {
  "kernelspec": {
   "display_name": "Python 3",
   "language": "python",
   "name": "python3"
  },
  "language_info": {
   "codemirror_mode": {
    "name": "ipython",
    "version": 3
   },
   "file_extension": ".py",
   "mimetype": "text/x-python",
   "name": "python",
   "nbconvert_exporter": "python",
   "pygments_lexer": "ipython3",
   "version": "3.6.8"
  },
  "toc": {
   "base_numbering": 1,
   "nav_menu": {},
   "number_sections": false,
   "sideBar": true,
   "skip_h1_title": false,
   "title_cell": "Table of Contents",
   "title_sidebar": "Contents",
   "toc_cell": false,
   "toc_position": {},
   "toc_section_display": true,
   "toc_window_display": false
  },
  "varInspector": {
   "cols": {
    "lenName": 16,
    "lenType": 16,
    "lenVar": 40
   },
   "kernels_config": {
    "python": {
     "delete_cmd_postfix": "",
     "delete_cmd_prefix": "del ",
     "library": "var_list.py",
     "varRefreshCmd": "print(var_dic_list())"
    },
    "r": {
     "delete_cmd_postfix": ") ",
     "delete_cmd_prefix": "rm(",
     "library": "var_list.r",
     "varRefreshCmd": "cat(var_dic_list()) "
    }
   },
   "types_to_exclude": [
    "module",
    "function",
    "builtin_function_or_method",
    "instance",
    "_Feature"
   ],
   "window_display": false
  }
 },
 "nbformat": 4,
 "nbformat_minor": 2
}
