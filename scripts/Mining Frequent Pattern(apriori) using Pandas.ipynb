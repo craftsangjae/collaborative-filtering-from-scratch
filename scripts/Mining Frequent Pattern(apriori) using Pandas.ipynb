{
 "cells": [
  {
   "cell_type": "markdown",
   "metadata": {},
   "source": [
    "### Load Packages"
   ]
  },
  {
   "cell_type": "code",
   "execution_count": 1,
   "metadata": {},
   "outputs": [
    {
     "name": "stderr",
     "output_type": "stream",
     "text": [
      "/opt/conda/lib/python3.6/site-packages/h5py/__init__.py:36: FutureWarning: Conversion of the second argument of issubdtype from `float` to `np.floating` is deprecated. In future, it will be treated as `np.float64 == np.dtype(float).type`.\n",
      "  from ._conv import register_converters as _register_converters\n"
     ]
    }
   ],
   "source": [
    "import numpy as np\n",
    "import pandas as pd\n",
    "from tqdm import tqdm\n",
    "import matplotlib.pyplot as plt\n",
    "from tensorflow.keras.utils import get_file"
   ]
  },
  {
   "cell_type": "markdown",
   "metadata": {},
   "source": [
    "### Download Data"
   ]
  },
  {
   "cell_type": "code",
   "execution_count": 2,
   "metadata": {},
   "outputs": [],
   "source": [
    "ROOT_URL = \"https://craftsangjae.s3.ap-northeast-2.amazonaws.com/data/\"\n",
    "\n",
    "fpath = get_file(\"movies.csv\", ROOT_URL + \"movies.csv\")\n",
    "movie_df = pd.read_csv(fpath)\n",
    "\n",
    "fpath = get_file(\"genres.csv\", ROOT_URL + \"genres.csv\")\n",
    "genre_df = pd.read_csv(fpath)\n",
    "\n",
    "fpath = get_file(\"ratings.csv\", ROOT_URL + 'ratings.csv')\n",
    "rating_df = pd.read_csv(fpath)"
   ]
  },
  {
   "cell_type": "code",
   "execution_count": 3,
   "metadata": {},
   "outputs": [
    {
     "data": {
      "text/html": [
       "<div>\n",
       "<style scoped>\n",
       "    .dataframe tbody tr th:only-of-type {\n",
       "        vertical-align: middle;\n",
       "    }\n",
       "\n",
       "    .dataframe tbody tr th {\n",
       "        vertical-align: top;\n",
       "    }\n",
       "\n",
       "    .dataframe thead th {\n",
       "        text-align: right;\n",
       "    }\n",
       "</style>\n",
       "<table border=\"1\" class=\"dataframe\">\n",
       "  <thead>\n",
       "    <tr style=\"text-align: right;\">\n",
       "      <th></th>\n",
       "      <th>id</th>\n",
       "      <th>title</th>\n",
       "      <th>release_year</th>\n",
       "    </tr>\n",
       "  </thead>\n",
       "  <tbody>\n",
       "    <tr>\n",
       "      <th>0</th>\n",
       "      <td>1</td>\n",
       "      <td>Toy Story</td>\n",
       "      <td>1995</td>\n",
       "    </tr>\n",
       "    <tr>\n",
       "      <th>1</th>\n",
       "      <td>2</td>\n",
       "      <td>Jumanji</td>\n",
       "      <td>1995</td>\n",
       "    </tr>\n",
       "    <tr>\n",
       "      <th>2</th>\n",
       "      <td>3</td>\n",
       "      <td>Grumpier Old Men</td>\n",
       "      <td>1995</td>\n",
       "    </tr>\n",
       "  </tbody>\n",
       "</table>\n",
       "</div>"
      ],
      "text/plain": [
       "   id             title  release_year\n",
       "0   1         Toy Story          1995\n",
       "1   2           Jumanji          1995\n",
       "2   3  Grumpier Old Men          1995"
      ]
     },
     "execution_count": 3,
     "metadata": {},
     "output_type": "execute_result"
    }
   ],
   "source": [
    "movie_df.head(3)"
   ]
  },
  {
   "cell_type": "code",
   "execution_count": 4,
   "metadata": {},
   "outputs": [
    {
     "data": {
      "text/html": [
       "<div>\n",
       "<style scoped>\n",
       "    .dataframe tbody tr th:only-of-type {\n",
       "        vertical-align: middle;\n",
       "    }\n",
       "\n",
       "    .dataframe tbody tr th {\n",
       "        vertical-align: top;\n",
       "    }\n",
       "\n",
       "    .dataframe thead th {\n",
       "        text-align: right;\n",
       "    }\n",
       "</style>\n",
       "<table border=\"1\" class=\"dataframe\">\n",
       "  <thead>\n",
       "    <tr style=\"text-align: right;\">\n",
       "      <th></th>\n",
       "      <th>movie_id</th>\n",
       "      <th>genre</th>\n",
       "    </tr>\n",
       "  </thead>\n",
       "  <tbody>\n",
       "    <tr>\n",
       "      <th>0</th>\n",
       "      <td>1</td>\n",
       "      <td>Adventure</td>\n",
       "    </tr>\n",
       "    <tr>\n",
       "      <th>1</th>\n",
       "      <td>1</td>\n",
       "      <td>Animation</td>\n",
       "    </tr>\n",
       "    <tr>\n",
       "      <th>2</th>\n",
       "      <td>1</td>\n",
       "      <td>Children</td>\n",
       "    </tr>\n",
       "  </tbody>\n",
       "</table>\n",
       "</div>"
      ],
      "text/plain": [
       "   movie_id      genre\n",
       "0         1  Adventure\n",
       "1         1  Animation\n",
       "2         1   Children"
      ]
     },
     "execution_count": 4,
     "metadata": {},
     "output_type": "execute_result"
    }
   ],
   "source": [
    "genre_df.head(3)"
   ]
  },
  {
   "cell_type": "code",
   "execution_count": 5,
   "metadata": {},
   "outputs": [
    {
     "data": {
      "text/html": [
       "<div>\n",
       "<style scoped>\n",
       "    .dataframe tbody tr th:only-of-type {\n",
       "        vertical-align: middle;\n",
       "    }\n",
       "\n",
       "    .dataframe tbody tr th {\n",
       "        vertical-align: top;\n",
       "    }\n",
       "\n",
       "    .dataframe thead th {\n",
       "        text-align: right;\n",
       "    }\n",
       "</style>\n",
       "<table border=\"1\" class=\"dataframe\">\n",
       "  <thead>\n",
       "    <tr style=\"text-align: right;\">\n",
       "      <th></th>\n",
       "      <th>user_id</th>\n",
       "      <th>movie_id</th>\n",
       "      <th>rating</th>\n",
       "      <th>rated_at</th>\n",
       "    </tr>\n",
       "  </thead>\n",
       "  <tbody>\n",
       "    <tr>\n",
       "      <th>0</th>\n",
       "      <td>1</td>\n",
       "      <td>2</td>\n",
       "      <td>3.5</td>\n",
       "      <td>1112486027</td>\n",
       "    </tr>\n",
       "    <tr>\n",
       "      <th>1</th>\n",
       "      <td>1</td>\n",
       "      <td>29</td>\n",
       "      <td>3.5</td>\n",
       "      <td>1112484676</td>\n",
       "    </tr>\n",
       "    <tr>\n",
       "      <th>2</th>\n",
       "      <td>1</td>\n",
       "      <td>32</td>\n",
       "      <td>3.5</td>\n",
       "      <td>1112484819</td>\n",
       "    </tr>\n",
       "  </tbody>\n",
       "</table>\n",
       "</div>"
      ],
      "text/plain": [
       "   user_id  movie_id  rating    rated_at\n",
       "0        1         2     3.5  1112486027\n",
       "1        1        29     3.5  1112484676\n",
       "2        1        32     3.5  1112484819"
      ]
     },
     "execution_count": 5,
     "metadata": {},
     "output_type": "execute_result"
    }
   ],
   "source": [
    "rating_df.head(3)"
   ]
  },
  {
   "cell_type": "markdown",
   "metadata": {},
   "source": [
    "## Mining Frequent Pattern\n",
    "---"
   ]
  },
  {
   "cell_type": "markdown",
   "metadata": {},
   "source": [
    "### 1. convert from rating data to Basket data\n",
    "\n",
    "***caution*** \n",
    "\n",
    ": there is no basket data form in movielens. let's assume that item sets that the customer has given a rating make up a basket.\n"
   ]
  },
  {
   "cell_type": "code",
   "execution_count": 6,
   "metadata": {},
   "outputs": [
    {
     "data": {
      "text/plain": [
       "user_id\n",
       "1    {3081, 1036, 541, 4128, 5171, 2100, 1079, 1090...\n",
       "2    {3, 260, 2948, 2951, 1544, 1673, 266, 908, 245...\n",
       "3    {3072, 1, 2054, 1544, 2571, 3098, 2076, 541, 3...\n",
       "Name: movie_id, dtype: object"
      ]
     },
     "execution_count": 6,
     "metadata": {},
     "output_type": "execute_result"
    }
   ],
   "source": [
    "baskets = (\n",
    "    rating_df\n",
    "    [rating_df.rating>=4.] \n",
    "    .groupby('user_id')    \n",
    "    ['movie_id']           \n",
    "    .apply(set)            \n",
    ")\n",
    "baskets.head(3)"
   ]
  },
  {
   "cell_type": "markdown",
   "metadata": {},
   "source": [
    "### 2. Frequent Pattern using Apriori Algorithm\n",
    "\n",
    "reference : [wiki - Apriori Algorithm](https://en.wikipedia.org/wiki/Apriori_algorithm)"
   ]
  },
  {
   "cell_type": "code",
   "execution_count": 70,
   "metadata": {},
   "outputs": [],
   "source": [
    "from functools import reduce\n",
    "from itertools import combinations\n",
    "\n",
    "def apriori(baskets, min_support=0.1, max_size=3):\n",
    "    \"\"\"\n",
    "    Find Frequent set to perform market basket analysis\n",
    "    \n",
    "    :param baskets: pd.Series, Each value represents one basket \n",
    "    :param min_support: minimum support to be selected as a frequent set\n",
    "    :param max_size: maximum size of frequent set\n",
    "    :return: pd.Dataframe,\n",
    "        | columns | description    |\n",
    "        | ----    |  ----          |\n",
    "        |itemsets |  frequent set  |\n",
    "        |support  |  support value |\n",
    "    \"\"\"\n",
    "    \n",
    "    # Candidates for frequent sets of one item\n",
    "    print(\"collect all items\")\n",
    "    all_items = reduce(lambda x,y: x|y, baskets)\n",
    "    candidates = [frozenset([item]) for item in all_items]\n",
    "    \n",
    "    num_basket = len(baskets)\n",
    "    frequent_sets = {}\n",
    "    for i in range(1, max_size+1):\n",
    "        print(f\"{i}th step...\")\n",
    "        support_dict = {}    \n",
    "        for candidate in tqdm(candidates):\n",
    "            if len(candidate) != i:\n",
    "                continue\n",
    "            # Calculate support for the frequent set candidate \n",
    "            num_included = sum(baskets >= candidate)\n",
    "            support = num_included / num_basket\n",
    "            \n",
    "            if support >= min_support:\n",
    "                support_dict[candidate] = support\n",
    "\n",
    "        # Add item sets over min support\n",
    "        frequent_sets.update(support_dict)\n",
    "\n",
    "        # Generate next step frequent set candidates\n",
    "        candidates = {frozenset(a|b) \n",
    "                      for a, b in combinations(support_dict.keys(), 2)}\n",
    "    \n",
    "    # frequent sets to Dataframe\n",
    "    freq_df = pd.Series(frequent_sets, name='support')\n",
    "    freq_df.index.name = 'itemsets'\n",
    "    freq_df = freq_df.reset_index()\n",
    "    return freq_df"
   ]
  },
  {
   "cell_type": "code",
   "execution_count": 71,
   "metadata": {},
   "outputs": [
    {
     "name": "stdout",
     "output_type": "stream",
     "text": [
      "collect all items\n"
     ]
    },
    {
     "name": "stderr",
     "output_type": "stream",
     "text": [
      "  0%|          | 2/20720 [00:00<22:12, 15.54it/s]"
     ]
    },
    {
     "name": "stdout",
     "output_type": "stream",
     "text": [
      "1th step...\n"
     ]
    },
    {
     "name": "stderr",
     "output_type": "stream",
     "text": [
      "100%|██████████| 20720/20720 [21:27<00:00, 16.09it/s]\n",
      "  0%|          | 2/6441 [00:00<08:47, 12.20it/s]"
     ]
    },
    {
     "name": "stdout",
     "output_type": "stream",
     "text": [
      "2th step...\n"
     ]
    },
    {
     "name": "stderr",
     "output_type": "stream",
     "text": [
      "100%|██████████| 6441/6441 [07:57<00:00, 13.49it/s]\n",
      "  0%|          | 26/26859 [00:00<02:39, 168.37it/s]"
     ]
    },
    {
     "name": "stdout",
     "output_type": "stream",
     "text": [
      "3th step...\n"
     ]
    },
    {
     "name": "stderr",
     "output_type": "stream",
     "text": [
      "100%|██████████| 26859/26859 [04:43<00:00, 94.75it/s] \n"
     ]
    }
   ],
   "source": [
    "freq_df = apriori(baskets, min_support=0.1, max_size=3)"
   ]
  },
  {
   "cell_type": "markdown",
   "metadata": {},
   "source": [
    "### 3. analyze baskets using association rule\n",
    "\n",
    "\n",
    "\n",
    "* **Support**\n",
    "    \n",
    "    * measure the abundance or frequency of an itemset in a database\n",
    "    * $S(X, Y) = \\frac{Freq(X,Y)}{N}$\n",
    "\n",
    "* **Confidence**\n",
    "\n",
    "    * the probability of seeing the consequent in a transaction given that it also contains the antecedent\n",
    "    * $C(X \\rightarrow Y) = \\frac{Freq(X,Y)}{Freq(X)} = \\frac{S(X,Y)}{S(X)}$\n",
    "    \n",
    "* **Lift**\n",
    "\n",
    "    * measure how much more often the antecedent and consequent of a rule A->C occur together than we would expect if they were statistically independent\n",
    "    * $L(X\\rightarrow Y) = \\frac{C(X \\rightarrow Y)}{S(Y)}$"
   ]
  },
  {
   "cell_type": "code",
   "execution_count": 76,
   "metadata": {},
   "outputs": [],
   "source": [
    "def find_association_rules(freq_df, min_confidence=0.5):\n",
    "    \"\"\"\n",
    "    find all of the association rules derived through the frequent sets\n",
    "    \n",
    "    :param freq_df: the return value from apriori method\n",
    "    :param min_confidence: minimum confidence to be selected as a assocation rule\n",
    "    \"\"\"\n",
    "    rules = []\n",
    "    for idx, row in freq_df.iterrows():\n",
    "        X = row.itemsets\n",
    "        support_X = row.support\n",
    "\n",
    "        for idx, case in freq_df[freq_df.itemsets > X].iterrows():\n",
    "            Y = case.itemsets - X\n",
    "\n",
    "            support_XY = case.support\n",
    "            confidence_XY = support_XY / support_X\n",
    "            \n",
    "            if confidence_XY<=min_confidence:\n",
    "                continue\n",
    "            \n",
    "            support_Y = freq_df.loc[freq_df.itemsets==Y,\"support\"].values[0]\n",
    "\n",
    "            lift_XY = confidence_XY / support_Y\n",
    "            rules.append({\n",
    "                \"antecedents\": X,\n",
    "                \"consequents\": Y,\n",
    "                \"support\": support_XY,\n",
    "                \"confidence\": confidence_XY,\n",
    "                \"lift\": lift_XY\n",
    "            })\n",
    "        \n",
    "    association_df = pd.DataFrame(rules)\n",
    "    return association_df"
   ]
  },
  {
   "cell_type": "markdown",
   "metadata": {},
   "source": [
    "### Sampling Association Rules found"
   ]
  },
  {
   "cell_type": "code",
   "execution_count": 77,
   "metadata": {},
   "outputs": [
    {
     "data": {
      "text/html": [
       "<div>\n",
       "<style scoped>\n",
       "    .dataframe tbody tr th:only-of-type {\n",
       "        vertical-align: middle;\n",
       "    }\n",
       "\n",
       "    .dataframe tbody tr th {\n",
       "        vertical-align: top;\n",
       "    }\n",
       "\n",
       "    .dataframe thead th {\n",
       "        text-align: right;\n",
       "    }\n",
       "</style>\n",
       "<table border=\"1\" class=\"dataframe\">\n",
       "  <thead>\n",
       "    <tr style=\"text-align: right;\">\n",
       "      <th></th>\n",
       "      <th>antecedents</th>\n",
       "      <th>consequents</th>\n",
       "      <th>support</th>\n",
       "      <th>confidence</th>\n",
       "      <th>lift</th>\n",
       "    </tr>\n",
       "  </thead>\n",
       "  <tbody>\n",
       "    <tr>\n",
       "      <th>231</th>\n",
       "      <td>{Lord of the Rings: The Two Towers, The}</td>\n",
       "      <td>{Lord of the Rings: The Return of the King, Th...</td>\n",
       "      <td>0.135103</td>\n",
       "      <td>0.733587</td>\n",
       "      <td>4.911905</td>\n",
       "    </tr>\n",
       "    <tr>\n",
       "      <th>274</th>\n",
       "      <td>{Lord of the Rings: The Return of the King, Th...</td>\n",
       "      <td>{Lord of the Rings: The Two Towers, The}</td>\n",
       "      <td>0.135103</td>\n",
       "      <td>0.904614</td>\n",
       "      <td>4.911905</td>\n",
       "    </tr>\n",
       "    <tr>\n",
       "      <th>250</th>\n",
       "      <td>{Lord of the Rings: The Two Towers, The, Lord ...</td>\n",
       "      <td>{Lord of the Rings: The Return of the King, The}</td>\n",
       "      <td>0.135103</td>\n",
       "      <td>0.853300</td>\n",
       "      <td>4.908089</td>\n",
       "    </tr>\n",
       "    <tr>\n",
       "      <th>238</th>\n",
       "      <td>{Lord of the Rings: The Return of the King, The}</td>\n",
       "      <td>{Lord of the Rings: The Two Towers, The, Lord ...</td>\n",
       "      <td>0.135103</td>\n",
       "      <td>0.777098</td>\n",
       "      <td>4.908089</td>\n",
       "    </tr>\n",
       "    <tr>\n",
       "      <th>245</th>\n",
       "      <td>{Lord of the Rings: The Two Towers, The, Matri...</td>\n",
       "      <td>{Lord of the Rings: The Return of the King, The}</td>\n",
       "      <td>0.104609</td>\n",
       "      <td>0.843302</td>\n",
       "      <td>4.850582</td>\n",
       "    </tr>\n",
       "    <tr>\n",
       "      <th>239</th>\n",
       "      <td>{Lord of the Rings: The Return of the King, The}</td>\n",
       "      <td>{Lord of the Rings: The Two Towers, The, Matri...</td>\n",
       "      <td>0.104609</td>\n",
       "      <td>0.601697</td>\n",
       "      <td>4.850582</td>\n",
       "    </tr>\n",
       "    <tr>\n",
       "      <th>232</th>\n",
       "      <td>{Lord of the Rings: The Two Towers, The}</td>\n",
       "      <td>{Lord of the Rings: The Return of the King, Th...</td>\n",
       "      <td>0.104609</td>\n",
       "      <td>0.568007</td>\n",
       "      <td>4.765104</td>\n",
       "    </tr>\n",
       "    <tr>\n",
       "      <th>305</th>\n",
       "      <td>{Lord of the Rings: The Return of the King, Th...</td>\n",
       "      <td>{Lord of the Rings: The Two Towers, The}</td>\n",
       "      <td>0.104609</td>\n",
       "      <td>0.877578</td>\n",
       "      <td>4.765104</td>\n",
       "    </tr>\n",
       "    <tr>\n",
       "      <th>128</th>\n",
       "      <td>{Aliens}</td>\n",
       "      <td>{Alien}</td>\n",
       "      <td>0.105990</td>\n",
       "      <td>0.752451</td>\n",
       "      <td>4.586514</td>\n",
       "    </tr>\n",
       "    <tr>\n",
       "      <th>141</th>\n",
       "      <td>{Alien}</td>\n",
       "      <td>{Aliens}</td>\n",
       "      <td>0.105990</td>\n",
       "      <td>0.646053</td>\n",
       "      <td>4.586514</td>\n",
       "    </tr>\n",
       "  </tbody>\n",
       "</table>\n",
       "</div>"
      ],
      "text/plain": [
       "                                           antecedents  \\\n",
       "231           {Lord of the Rings: The Two Towers, The}   \n",
       "274  {Lord of the Rings: The Return of the King, Th...   \n",
       "250  {Lord of the Rings: The Two Towers, The, Lord ...   \n",
       "238   {Lord of the Rings: The Return of the King, The}   \n",
       "245  {Lord of the Rings: The Two Towers, The, Matri...   \n",
       "239   {Lord of the Rings: The Return of the King, The}   \n",
       "232           {Lord of the Rings: The Two Towers, The}   \n",
       "305  {Lord of the Rings: The Return of the King, Th...   \n",
       "128                                           {Aliens}   \n",
       "141                                            {Alien}   \n",
       "\n",
       "                                           consequents   support  confidence  \\\n",
       "231  {Lord of the Rings: The Return of the King, Th...  0.135103    0.733587   \n",
       "274           {Lord of the Rings: The Two Towers, The}  0.135103    0.904614   \n",
       "250   {Lord of the Rings: The Return of the King, The}  0.135103    0.853300   \n",
       "238  {Lord of the Rings: The Two Towers, The, Lord ...  0.135103    0.777098   \n",
       "245   {Lord of the Rings: The Return of the King, The}  0.104609    0.843302   \n",
       "239  {Lord of the Rings: The Two Towers, The, Matri...  0.104609    0.601697   \n",
       "232  {Lord of the Rings: The Return of the King, Th...  0.104609    0.568007   \n",
       "305           {Lord of the Rings: The Two Towers, The}  0.104609    0.877578   \n",
       "128                                            {Alien}  0.105990    0.752451   \n",
       "141                                           {Aliens}  0.105990    0.646053   \n",
       "\n",
       "         lift  \n",
       "231  4.911905  \n",
       "274  4.911905  \n",
       "250  4.908089  \n",
       "238  4.908089  \n",
       "245  4.850582  \n",
       "239  4.850582  \n",
       "232  4.765104  \n",
       "305  4.765104  \n",
       "128  4.586514  \n",
       "141  4.586514  "
      ]
     },
     "execution_count": 77,
     "metadata": {},
     "output_type": "execute_result"
    }
   ],
   "source": [
    "id2title = dict(zip(movie_df.id.values, movie_df.title.values))\n",
    "\n",
    "samples = (\n",
    "    find_association_rules(freq_df, min_confidence=0.5)\n",
    "    .sort_values('lift',ascending=False)\n",
    "    .iloc[:10]\n",
    ")\n",
    "samples.antecedents = samples.antecedents.map(lambda items : {id2title[i] for i in items})\n",
    "samples.consequents = samples.consequents.map(lambda items : {id2title[i] for i in items})\n",
    "\n",
    "samples"
   ]
  }
 ],
 "metadata": {
  "kernelspec": {
   "display_name": "Python 3",
   "language": "python",
   "name": "python3"
  },
  "language_info": {
   "codemirror_mode": {
    "name": "ipython",
    "version": 3
   },
   "file_extension": ".py",
   "mimetype": "text/x-python",
   "name": "python",
   "nbconvert_exporter": "python",
   "pygments_lexer": "ipython3",
   "version": "3.6.5"
  },
  "toc": {
   "base_numbering": 1,
   "nav_menu": {},
   "number_sections": false,
   "sideBar": true,
   "skip_h1_title": false,
   "title_cell": "Table of Contents",
   "title_sidebar": "Contents",
   "toc_cell": false,
   "toc_position": {},
   "toc_section_display": true,
   "toc_window_display": false
  },
  "varInspector": {
   "cols": {
    "lenName": 16,
    "lenType": 16,
    "lenVar": 40
   },
   "kernels_config": {
    "python": {
     "delete_cmd_postfix": "",
     "delete_cmd_prefix": "del ",
     "library": "var_list.py",
     "varRefreshCmd": "print(var_dic_list())"
    },
    "r": {
     "delete_cmd_postfix": ") ",
     "delete_cmd_prefix": "rm(",
     "library": "var_list.r",
     "varRefreshCmd": "cat(var_dic_list()) "
    }
   },
   "types_to_exclude": [
    "module",
    "function",
    "builtin_function_or_method",
    "instance",
    "_Feature"
   ],
   "window_display": false
  }
 },
 "nbformat": 4,
 "nbformat_minor": 2
}
