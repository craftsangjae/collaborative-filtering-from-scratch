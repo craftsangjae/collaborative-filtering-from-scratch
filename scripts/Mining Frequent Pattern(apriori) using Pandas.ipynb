{
 "cells": [
  {
   "cell_type": "markdown",
   "metadata": {},
   "source": [
    "### Load Packages"
   ]
  },
  {
   "cell_type": "code",
   "execution_count": null,
   "metadata": {},
   "outputs": [],
   "source": [
    "import numpy as np\n",
    "import pandas as pd\n",
    "from tqdm import tqdm\n",
    "import matplotlib.pyplot as plt\n",
    "from tensorflow.keras.utils import get_file"
   ]
  },
  {
   "cell_type": "markdown",
   "metadata": {},
   "source": [
    "### Download Data"
   ]
  },
  {
   "cell_type": "code",
   "execution_count": null,
   "metadata": {},
   "outputs": [],
   "source": [
    "ROOT_URL = \"https://craftsangjae.s3.ap-northeast-2.amazonaws.com/data/\"\n",
    "\n",
    "fpath = get_file(\"movies.csv\", ROOT_URL + \"movies.csv\")\n",
    "movie_df = pd.read_csv(fpath)\n",
    "\n",
    "fpath = get_file(\"genres.csv\", ROOT_URL + \"genres.csv\")\n",
    "genre_df = pd.read_csv(fpath)\n",
    "\n",
    "fpath = get_file(\"ratings.csv\", ROOT_URL + 'ratings.csv')\n",
    "rating_df = pd.read_csv(fpath)"
   ]
  },
  {
   "cell_type": "markdown",
   "metadata": {},
   "source": [
    "## Mining Frequent Pattern\n",
    "---"
   ]
  },
  {
   "cell_type": "markdown",
   "metadata": {},
   "source": [
    "### 1. convert from rating data to Basket data"
   ]
  },
  {
   "cell_type": "code",
   "execution_count": null,
   "metadata": {},
   "outputs": [],
   "source": [
    "baskets = (\n",
    "    rating_df              # 평점 데이터 중\n",
    "    [rating_df.rating>=4.] # 4점이상 평가를 높게 준 것들만 추려,\n",
    "    .groupby('user_id')    # 유저 별로\n",
    "    ['movie_id']           # 4점 이상 점수 준 무비아이디를 묶어\n",
    "    .apply(set)            # 하나의 바스킷(set)으로 구성해주세요\n",
    ")\n",
    "baskets.head(3)"
   ]
  },
  {
   "cell_type": "markdown",
   "metadata": {},
   "source": [
    "### 2. Frequent Pattern using Apriori Algorithm"
   ]
  },
  {
   "cell_type": "code",
   "execution_count": null,
   "metadata": {},
   "outputs": [],
   "source": [
    "from functools import reduce\n",
    "from itertools import combinations\n",
    "\n",
    "def apriori(baskets, min_support=0.1, max_size=3):\n",
    "    \"\"\"\n",
    "    \n",
    "    \"\"\"\n",
    "    # 후보군 가져오기\n",
    "    print(\"collect all items\")\n",
    "    all_items = reduce(lambda x,y: x|y, baskets)\n",
    "    candidates = [frozenset([item]) for item in all_items]\n",
    "    \n",
    "    # candidate 별 support 구하기\n",
    "    num_basket = len(baskets)\n",
    "    frequent_sets = {}\n",
    "    for i in range(1, max_size+1):\n",
    "        print(f\"{i}th step...\")\n",
    "        support_dict = {}    \n",
    "        for candidate in tqdm(candidates):\n",
    "            # frozenset은 dictionary의 key값으로 될 수 있고,\n",
    "            # set은 dictionary의 key값이 되지 못함\n",
    "            candidate = frozenset(candidate)\n",
    "\n",
    "            # 지지도 계산하기\n",
    "            num_included = sum(baskets >= candidate)\n",
    "            support = num_included / num_basket\n",
    "\n",
    "            if support >= min_support:\n",
    "                # min_support 기준보다 높은 것들만 추림\n",
    "                support_dict[candidate] = support\n",
    "\n",
    "        # min support 보다 높은 빈발집합을 결과에 담기\n",
    "        frequent_sets.update(support_dict)\n",
    "\n",
    "        # min_support보다 높은 빈발집합 케이스 가져오기\n",
    "        pruned_candidates = support_dict.keys()\n",
    "\n",
    "        # min_support 기준보다 높은 것들끼리 self_join을 통해 다음 후보군을 구성\n",
    "        candidates = { a|b for a, b in combinations(pruned_candidates, 2)}    \n",
    "    \n",
    "    # frequent sets to Dataframe\n",
    "    freq_df = pd.Series(frequent_sets, name='support')\n",
    "    freq_df.index.name = 'itemsets'\n",
    "    freq_df = freq_df.reset_index()\n",
    "    return freq_df"
   ]
  },
  {
   "cell_type": "code",
   "execution_count": null,
   "metadata": {},
   "outputs": [],
   "source": [
    "freq_df = apriori(baskets, min_support=0.1, max_size=2)"
   ]
  },
  {
   "cell_type": "markdown",
   "metadata": {},
   "source": [
    "### 3. analyze baskets using association rule"
   ]
  },
  {
   "cell_type": "code",
   "execution_count": null,
   "metadata": {},
   "outputs": [],
   "source": [
    "def find_association_rules(freq_df, min_confidence=0.5):\n",
    "    \"\"\"\n",
    "    \"\"\"\n",
    "    rules = []\n",
    "    for idx, row in freq_df.iterrows():\n",
    "        X = row.itemsets\n",
    "        support_X = row.support\n",
    "\n",
    "        for idx, case in freq_df[freq_df.itemsets > X].iterrows():\n",
    "            Y = case.itemsets - X\n",
    "\n",
    "            support_XY = case.support\n",
    "            confidence_XY = support_XY / support_X\n",
    "            \n",
    "            if confidence_XY<=min_confidence:\n",
    "                continue\n",
    "            \n",
    "            support_Y = freq_df.loc[freq_df.itemsets==Y,\"support\"].values[0]\n",
    "\n",
    "            lift_XY = confidence_XY / support_Y\n",
    "            rules.append({\n",
    "                \"antecedents\": X,\n",
    "                \"consequents\": Y,\n",
    "                \"support\": support_XY,\n",
    "                \"confidence\": confidence_XY,\n",
    "                \"lift\": lift_XY\n",
    "            })\n",
    "        \n",
    "    association_df = pd.DataFrame(rules)\n",
    "    return association_df"
   ]
  },
  {
   "cell_type": "code",
   "execution_count": null,
   "metadata": {},
   "outputs": [],
   "source": [
    "(\n",
    "    find_association_rules(freq_df, min_confidence=0.5)\n",
    "    .sort_values('lift',ascending=False)\n",
    "    .iloc[:10]\n",
    ")"
   ]
  },
  {
   "cell_type": "code",
   "execution_count": null,
   "metadata": {},
   "outputs": [],
   "source": []
  }
 ],
 "metadata": {
  "kernelspec": {
   "display_name": "Python 3",
   "language": "python",
   "name": "python3"
  },
  "language_info": {
   "codemirror_mode": {
    "name": "ipython",
    "version": 3
   },
   "file_extension": ".py",
   "mimetype": "text/x-python",
   "name": "python",
   "nbconvert_exporter": "python",
   "pygments_lexer": "ipython3",
   "version": "3.6.5"
  },
  "toc": {
   "base_numbering": 1,
   "nav_menu": {},
   "number_sections": false,
   "sideBar": true,
   "skip_h1_title": false,
   "title_cell": "Table of Contents",
   "title_sidebar": "Contents",
   "toc_cell": false,
   "toc_position": {},
   "toc_section_display": true,
   "toc_window_display": false
  },
  "varInspector": {
   "cols": {
    "lenName": 16,
    "lenType": 16,
    "lenVar": 40
   },
   "kernels_config": {
    "python": {
     "delete_cmd_postfix": "",
     "delete_cmd_prefix": "del ",
     "library": "var_list.py",
     "varRefreshCmd": "print(var_dic_list())"
    },
    "r": {
     "delete_cmd_postfix": ") ",
     "delete_cmd_prefix": "rm(",
     "library": "var_list.r",
     "varRefreshCmd": "cat(var_dic_list()) "
    }
   },
   "types_to_exclude": [
    "module",
    "function",
    "builtin_function_or_method",
    "instance",
    "_Feature"
   ],
   "window_display": false
  }
 },
 "nbformat": 4,
 "nbformat_minor": 2
}
