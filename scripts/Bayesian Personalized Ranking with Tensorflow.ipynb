{
 "cells": [
  {
   "cell_type": "markdown",
   "metadata": {},
   "source": [
    "### Load Packages"
   ]
  },
  {
   "cell_type": "code",
   "execution_count": null,
   "metadata": {},
   "outputs": [],
   "source": [
    "%matplotlib inline\n",
    "\n",
    "import numpy as np\n",
    "import pandas as pd\n",
    "from tqdm import tqdm\n",
    "import tensorflow as tf\n",
    "import matplotlib.pyplot as plt\n",
    "tqdm.pandas()\n",
    "np.set_printoptions(5,)\n",
    "assert int(tf.__version__[0]) == 2, \"tensorflow 2.0 should be installed\""
   ]
  },
  {
   "cell_type": "markdown",
   "metadata": {},
   "source": [
    "### Download Data"
   ]
  },
  {
   "cell_type": "code",
   "execution_count": 4,
   "metadata": {},
   "outputs": [
    {
     "name": "stdout",
     "output_type": "stream",
     "text": [
      "Downloading data from https://craftsangjae.s3.ap-northeast-2.amazonaws.com/data/lastfm_play.csv\n",
      "260063232/260058028 [==============================] - 69s 0us/step\n",
      "Downloading data from https://craftsangjae.s3.ap-northeast-2.amazonaws.com/data/lastfm_artist.csv\n",
      "3235840/3234827 [==============================] - 1s 0us/step\n",
      "Downloading data from https://craftsangjae.s3.ap-northeast-2.amazonaws.com/data/lastfm_user.csv\n",
      "8036352/8033280 [==============================] - 2s 0us/step\n"
     ]
    }
   ],
   "source": [
    "from tensorflow.keras.utils import get_file\n",
    "\n",
    "ROOT_URL = \"https://craftsangjae.s3.ap-northeast-2.amazonaws.com/data/\"\n",
    "\n",
    "# 데이터 가져오기\n",
    "play_path = get_file(\"lastfm_play.csv\",\n",
    "                     ROOT_URL+\"lastfm_play.csv\")\n",
    "artist_path = get_file(\"lastfm_artist.csv\",\n",
    "                       ROOT_URL+\"lastfm_artist.csv\")\n",
    "user_path = get_file(\"lastfm_user.csv\",\n",
    "                     ROOT_URL+\"lastfm_user.csv\")\n",
    "\n",
    "play_df = pd.read_csv(play_path)\n",
    "artist_df = pd.read_csv(artist_path)\n",
    "user_df = pd.read_csv(user_path)"
   ]
  },
  {
   "cell_type": "markdown",
   "metadata": {},
   "source": [
    "### Build Bayesian Personalized Ranking"
   ]
  },
  {
   "cell_type": "code",
   "execution_count": 5,
   "metadata": {},
   "outputs": [],
   "source": [
    "from tensorflow.keras.layers import Input, Dot, Concatenate\n",
    "from tensorflow.keras.layers import Embedding, Subtract\n",
    "from tensorflow.keras.initializers import RandomUniform\n",
    "from tensorflow.keras.regularizers import l2\n",
    "from tensorflow.keras.models import Model\n",
    "\n",
    "def bayesian_personalized_ranking(num_user, num_item, num_factor, l2_reg=1e-2):\n",
    "    user_id = Input(shape=(), name='user')\n",
    "    pos_item_id = Input(shape=(), name='pos_item')\n",
    "    neg_item_id = Input(shape=(), name='neg_item')\n",
    "    \n",
    "    # initializer For Embedding Layer\n",
    "    initializer = RandomUniform(minval=-1/num_factor, maxval= 1/num_factor)\n",
    "    \n",
    "    user_embedding_layer = Embedding(num_user, num_factor, \n",
    "                                     embeddings_initializer=initializer,\n",
    "                                     name='user_embedding')\n",
    "    item_embedding_layer = Embedding(num_item, num_factor, \n",
    "                                     embeddings_initializer=initializer,\n",
    "                                     name='item_embedding')\n",
    "    item_bias_layer = Embedding(num_item, 1, \n",
    "                                embeddings_initializer='zeros',\n",
    "                                name='item_bias')\n",
    "    \n",
    "    user_embedding = user_embedding_layer(user_id)\n",
    "    \n",
    "    pos_item_embedding = item_embedding_layer(pos_item_id)\n",
    "    neg_item_embedding = item_embedding_layer(neg_item_id)\n",
    "    \n",
    "    pos_item_bias = item_bias_layer(pos_item_id)\n",
    "    neg_item_bias = item_bias_layer(neg_item_id)\n",
    "    \n",
    "    # Calculation the Score Difference between positive and negative\n",
    "    pos_score = (\n",
    "        Dot(axes=(1,1))([user_embedding, pos_item_embedding]) + pos_item_bias)\n",
    "    neg_score = (\n",
    "        Dot(axes=(1,1))([user_embedding, neg_item_embedding]) + neg_item_bias)\n",
    "\n",
    "    score = Subtract()([pos_score, neg_score])\n",
    "    \n",
    "    model = Model([user_id, pos_item_id, neg_item_id], score)\n",
    "        \n",
    "    # Add L2 Regularization Term\n",
    "    l2_pos_item = l2(1e-2)(pos_item_embedding)\n",
    "    l2_neg_item = l2(1e-2)(neg_item_embedding)\n",
    "    l2_user = l2(1e-2)(user_embedding)\n",
    "    l2_loss = l2_pos_item+l2_neg_item+l2_user\n",
    "    model.add_loss(l2_loss)\n",
    "    \n",
    "    return model"
   ]
  },
  {
   "cell_type": "code",
   "execution_count": 6,
   "metadata": {},
   "outputs": [],
   "source": [
    "num_user = play_df.user_id.max() + 1\n",
    "num_item = play_df.artist_id.max() + 1\n",
    "num_factor = 32\n",
    "\n",
    "model = bayesian_personalized_ranking(num_user, num_item, 32, 1e-2)"
   ]
  },
  {
   "cell_type": "markdown",
   "metadata": {},
   "source": [
    "### Compile Model"
   ]
  },
  {
   "cell_type": "code",
   "execution_count": 7,
   "metadata": {},
   "outputs": [],
   "source": [
    "from tensorflow.keras.optimizers import Adagrad\n",
    "from tensorflow.keras.metrics import BinaryAccuracy\n",
    "\n",
    "def log_sigmoid_loss(y_true, y_pred):\n",
    "    return tf.reduce_sum(-tf.math.log(tf.sigmoid(y_pred)))\n",
    "\n",
    "model.compile(optimizer=Adagrad(1e-1),\n",
    "              loss=log_sigmoid_loss, \n",
    "              metrics=[log_sigmoid_loss, BinaryAccuracy(threshold=0.)])\n"
   ]
  },
  {
   "cell_type": "markdown",
   "metadata": {},
   "source": [
    "### Build Data Input Pipeline"
   ]
  },
  {
   "cell_type": "code",
   "execution_count": 8,
   "metadata": {},
   "outputs": [],
   "source": [
    "def bootstrap_dataset(df, batch_size=4096):\n",
    "    bootstrap = df.sample(frac=1., replace=True)\n",
    "    user_ids = bootstrap.user_id.values\n",
    "    pos_item_ids = bootstrap.artist_id.values\n",
    "    neg_item_ids = df.artist_id.sample(frac=1., replace=True).values\n",
    "\n",
    "    X = {\n",
    "        \"user\": user_ids,\n",
    "        \"pos_item\": pos_item_ids,\n",
    "        \"neg_item\": neg_item_ids\n",
    "    }\n",
    "    dummy_y = np.ones((len(bootstrap), 1))\n",
    "    \n",
    "    dataset = (\n",
    "        tf.data.Dataset\n",
    "        .from_tensor_slices((X,dummy_y))\n",
    "        .batch(batch_size)) # 배치 단위로 record 묶기\n",
    "    \n",
    "    return dataset"
   ]
  },
  {
   "cell_type": "markdown",
   "metadata": {},
   "source": [
    "### Train Model"
   ]
  },
  {
   "cell_type": "code",
   "execution_count": null,
   "metadata": {},
   "outputs": [],
   "source": [
    "num_epoch = 100\n",
    "batch_size = 4096\n",
    "\n",
    "for i in range(num_epoch):\n",
    "    print(f\"{i+1}th epoch\")\n",
    "    dataset = bootstrap_dataset(play_df, batch_size)\n",
    "    model.fit(dataset)"
   ]
  },
  {
   "cell_type": "markdown",
   "metadata": {},
   "source": [
    "### Recommend Items using Model\n",
    "\n",
    "* case 1. 유사한 아티스트 찾기\n",
    "* case 2. 유저의 취향에 맞는 아티스트 찾기"
   ]
  },
  {
   "cell_type": "markdown",
   "metadata": {},
   "source": [
    "#### 임베딩 행렬 가져오기"
   ]
  },
  {
   "cell_type": "code",
   "execution_count": 13,
   "metadata": {},
   "outputs": [
    {
     "data": {
      "text/plain": [
       "array([5, 0, 4, ..., 5, 6, 8], dtype=uint8)"
      ]
     },
     "execution_count": 13,
     "metadata": {},
     "output_type": "execute_result"
    }
   ],
   "source": [
    "from tensorflow.keras.datasets import mnist\n",
    "from tensorflow.keras.utils import to_categorical\n",
    "train, test = mnist.load_data()\n",
    "train_images, train_labels = train[0], train[1]\n",
    "\n",
    "# 행렬의 Sparse 표기법\n",
    "train_labels"
   ]
  },
  {
   "cell_type": "code",
   "execution_count": 12,
   "metadata": {},
   "outputs": [
    {
     "data": {
      "text/plain": [
       "array([[0., 0., 0., ..., 0., 0., 0.],\n",
       "       [1., 0., 0., ..., 0., 0., 0.],\n",
       "       [0., 0., 0., ..., 0., 0., 0.],\n",
       "       ...,\n",
       "       [0., 0., 0., ..., 0., 0., 0.],\n",
       "       [0., 0., 0., ..., 0., 0., 0.],\n",
       "       [0., 0., 0., ..., 0., 1., 0.]], dtype=float32)"
      ]
     },
     "execution_count": 12,
     "metadata": {},
     "output_type": "execute_result"
    }
   ],
   "source": [
    "# 행렬의 Dense 표기법\n",
    "to_categorical(train_labels,num_classes=10)"
   ]
  },
  {
   "cell_type": "markdown",
   "metadata": {},
   "source": [
    "* 만약 데이터 label이 sparse 꼴로 되어 있다면, sparse_categorical_crossentropy\n",
    "* 만약 데이터 label이 dense 꼴로 되어 있다면, categorical_crossentropy"
   ]
  },
  {
   "cell_type": "code",
   "execution_count": 24,
   "metadata": {},
   "outputs": [],
   "source": [
    "# Extract Embedding weights\n",
    "user_embeddings = model.get_layer('user_embedding').get_weights()[0]\n",
    "item_embeddings = model.get_layer('item_embedding').get_weights()[0]\n",
    "item_bias = model.get_layer('item_bias').get_weights()[0]\n",
    "\n",
    "# Convert numpy array to Dataframe\n",
    "user_embedding_df = pd.DataFrame(user_embeddings, \n",
    "                                 index=user_df.user_id)\n",
    "user_embedding_df[num_factor] = 1.\n",
    "\n",
    "artist_embedding_df = pd.DataFrame(item_embeddings,\n",
    "                                   index=artist_df.artist_name)\n",
    "artist_embedding_df[num_factor] = item_bias[:,0]"
   ]
  },
  {
   "cell_type": "markdown",
   "metadata": {},
   "source": [
    "#### Case 1.  유사한 아티스트 찾기"
   ]
  },
  {
   "cell_type": "markdown",
   "metadata": {},
   "source": [
    "*제이슨 므라즈와 유사한 아티스트 찾기*"
   ]
  },
  {
   "cell_type": "code",
   "execution_count": 42,
   "metadata": {},
   "outputs": [
    {
     "data": {
      "text/plain": [
       "artist_name\n",
       "mozella                   2.814972\n",
       "josh kelley               2.806064\n",
       "matt wertz                2.772019\n",
       "jason reeves              2.766373\n",
       "teddy geiger              2.703305\n",
       "justin nozuka             2.701589\n",
       "jeremy kay                2.651573\n",
       "jamie scott & the town    2.649342\n",
       "eric hutchinson           2.634584\n",
       "gavin degraw              2.634161\n",
       "dtype: float32"
      ]
     },
     "execution_count": 42,
     "metadata": {},
     "output_type": "execute_result"
    }
   ],
   "source": [
    "target_embedding = artist_embedding_df.loc['jason mraz']\n",
    "\n",
    "(\n",
    "    artist_embedding_df\n",
    "    .dot(target_embedding)\n",
    "    .sort_values(ascending=False)\n",
    "    .iloc[:10]\n",
    ")"
   ]
  },
  {
   "cell_type": "markdown",
   "metadata": {},
   "source": [
    "*브리트니 스피어스와 유사한 아티스트 찾기*"
   ]
  },
  {
   "cell_type": "code",
   "execution_count": 43,
   "metadata": {},
   "outputs": [
    {
     "data": {
      "text/plain": [
       "artist_name\n",
       "girlicious          3.007082\n",
       "the saturdays       2.964588\n",
       "billie              2.933447\n",
       "paris hilton        2.902036\n",
       "victoria beckham    2.900184\n",
       "nadia oh            2.896300\n",
       "kate alexa          2.894922\n",
       "agnes carlsson      2.880454\n",
       "basim               2.862728\n",
       "alesha dixon        2.859251\n",
       "dtype: float32"
      ]
     },
     "execution_count": 43,
     "metadata": {},
     "output_type": "execute_result"
    }
   ],
   "source": [
    "target_embedding = artist_embedding_df.loc['britney spears']\n",
    "\n",
    "(\n",
    "    artist_embedding_df\n",
    "    .dot(target_embedding)\n",
    "    .sort_values(ascending=False)\n",
    "    .iloc[:10]\n",
    ")"
   ]
  },
  {
   "cell_type": "markdown",
   "metadata": {},
   "source": [
    "#### Case 2.  유저의 취향에 맞는 아티스트 찾기"
   ]
  },
  {
   "cell_type": "markdown",
   "metadata": {},
   "source": [
    "**메탈, 락과 같은 음악을 많은 들은 사람**"
   ]
  },
  {
   "cell_type": "code",
   "execution_count": 59,
   "metadata": {},
   "outputs": [
    {
     "name": "stdout",
     "output_type": "stream",
     "text": [
      "['angelo badalamenti', 'red hot chili peppers', 'marilyn manson', 'led zeppelin', 'eric clapton', 'metallica', 'iron maiden', 'u2', 't.love', 'slipknot', 'queens of the stone age', \"guns n' roses\", 'iced earth', 'avril lavigne', 'guano apes', 'the offspring', 'alice in chains', 'in flames', 'pantera', 'john williams', 'daniel licht', 'high and mighty color', 'karmacoma', 'down', 'missile girl scoot', 'akira yamaoka', 'the kilimanjaro darkjazz ensemble', 'mondo generator', 'raging speedhorn', 'graeme revell', 'spiritual beggars', 'as i lay dying', 'frida snell', 'fatboy slim', 'pearl jam', 'isis', 'suicidal tendencies', 'black sabbath', 'stone sour', 'the smashing pumpkins', 'sigur rós', 'godsmack', 'pink', 'no doubt', 'nine inch nails']\n"
     ]
    }
   ],
   "source": [
    "# 메탈, 락과 같은 음악을 많이 들은 사람\n",
    "target_id = 300\n",
    "target_user = user_embedding_df.loc[target_id]\n",
    "\n",
    "(\n",
    "    artist_embedding_df\n",
    "    .dot(target_user) # target_user와 유사도 계산하기\n",
    "    .sort_values(ascending=False)\n",
    "    [:10]\n",
    ")"
   ]
  }
 ],
 "metadata": {
  "kernelspec": {
   "display_name": "Python 3",
   "language": "python",
   "name": "python3"
  },
  "language_info": {
   "codemirror_mode": {
    "name": "ipython",
    "version": 3
   },
   "file_extension": ".py",
   "mimetype": "text/x-python",
   "name": "python",
   "nbconvert_exporter": "python",
   "pygments_lexer": "ipython3",
   "version": "3.6.5"
  },
  "toc": {
   "base_numbering": 1,
   "nav_menu": {},
   "number_sections": false,
   "sideBar": true,
   "skip_h1_title": false,
   "title_cell": "Table of Contents",
   "title_sidebar": "Contents",
   "toc_cell": false,
   "toc_position": {},
   "toc_section_display": true,
   "toc_window_display": false
  },
  "varInspector": {
   "cols": {
    "lenName": 16,
    "lenType": 16,
    "lenVar": 40
   },
   "kernels_config": {
    "python": {
     "delete_cmd_postfix": "",
     "delete_cmd_prefix": "del ",
     "library": "var_list.py",
     "varRefreshCmd": "print(var_dic_list())"
    },
    "r": {
     "delete_cmd_postfix": ") ",
     "delete_cmd_prefix": "rm(",
     "library": "var_list.r",
     "varRefreshCmd": "cat(var_dic_list()) "
    }
   },
   "types_to_exclude": [
    "module",
    "function",
    "builtin_function_or_method",
    "instance",
    "_Feature"
   ],
   "window_display": false
  }
 },
 "nbformat": 4,
 "nbformat_minor": 2
}
